{
 "cells": [
  {
   "cell_type": "code",
   "execution_count": 1,
   "metadata": {
    "collapsed": true,
    "pycharm": {
     "name": "#%%\n"
    }
   },
   "outputs": [],
   "source": [
    "import numpy as np\n",
    "import matplotlib.pyplot as plt\n",
    "import pandas as pd\n",
    "import seaborn as sns\n",
    "import sklearn\n",
    "from sklearn.model_selection import train_test_split\n",
    "from sklearn.linear_model import LinearRegression\n",
    "from sklearn.tree import DecisionTreeRegressor\n",
    "from sklearn.metrics import r2_score\n",
    "from math import sqrt"
   ]
  },
  {
   "cell_type": "markdown",
   "source": [
    "# Exam in machine learning\n",
    "## Problem 1: Basic Numpy"
   ],
   "metadata": {
    "collapsed": false,
    "pycharm": {
     "name": "#%% md\n"
    }
   }
  },
  {
   "cell_type": "code",
   "execution_count": 2,
   "outputs": [
    {
     "data": {
      "text/plain": "array([ 0,  1,  2,  3,  4,  5,  6,  7,  8,  9, 10, 11, 12, 13, 14, 15, 16,\n       17, 18, 19, 20, 21, 22, 23, 24, 25, 26, 27, 28, 29, 30, 31, 32, 33,\n       34, 35, 36, 37, 38, 39, 40, 41, 42, 43, 44, 45, 46, 47, 48, 49, 50,\n       51, 52, 53, 54, 55, 56, 57, 58, 59, 60, 61, 62, 63, 64, 65, 66, 67,\n       68, 69, 70, 71, 72, 73, 74, 75, 76, 77, 78, 79, 80, 81, 82, 83, 84,\n       85, 86, 87, 88, 89, 90, 91, 92, 93, 94, 95, 96, 97, 98, 99])"
     },
     "execution_count": 2,
     "metadata": {},
     "output_type": "execute_result"
    }
   ],
   "source": [
    "a = np.arange(start=0, stop=100, step=1)\n",
    "a"
   ],
   "metadata": {
    "collapsed": false,
    "pycharm": {
     "name": "#%%\n"
    }
   }
  },
  {
   "cell_type": "code",
   "execution_count": 3,
   "outputs": [
    {
     "data": {
      "text/plain": "array([ 0, 10, 20, 30, 40, 50, 60, 70, 80, 90])"
     },
     "execution_count": 3,
     "metadata": {},
     "output_type": "execute_result"
    }
   ],
   "source": [
    "b = np.arange(start=0, stop=100, step=10)\n",
    "b"
   ],
   "metadata": {
    "collapsed": false,
    "pycharm": {
     "name": "#%%\n"
    }
   }
  },
  {
   "cell_type": "code",
   "execution_count": 4,
   "outputs": [
    {
     "data": {
      "text/plain": "array([[0.76356878, 0.97529373, 0.61437348, 0.91798633, 0.69945184,\n        0.12529126, 0.47824524, 0.94077672, 0.44326195, 0.2645749 ],\n       [0.63449299, 0.13339254, 0.15901136, 0.02589032, 0.80760675,\n        0.27286109, 0.26469505, 0.06892441, 0.50414063, 0.36007101],\n       [0.80117039, 0.10455901, 0.96596496, 0.77283921, 0.39595632,\n        0.16833192, 0.40771812, 0.75881571, 0.6749555 , 0.86218065],\n       [0.30204836, 0.81018575, 0.80455424, 0.758054  , 0.53617043,\n        0.36928393, 0.97795525, 0.88224633, 0.92554048, 0.71752291],\n       [0.18719555, 0.98359858, 0.56447783, 0.2273898 , 0.91409605,\n        0.33921711, 0.98115309, 0.08831731, 0.76434935, 0.93500479],\n       [0.86761941, 0.59926282, 0.1424176 , 0.99320255, 0.19607161,\n        0.66752584, 0.19646181, 0.0401486 , 0.19304099, 0.22570062],\n       [0.05344286, 0.00918456, 0.66567584, 0.02313232, 0.20074051,\n        0.14137763, 0.15453632, 0.97719056, 0.68133856, 0.38515376],\n       [0.75618608, 0.14053408, 0.33255166, 0.27923219, 0.36410029,\n        0.31393987, 0.12435049, 0.59142807, 0.07972548, 0.91393621],\n       [0.23894976, 0.64210674, 0.56524294, 0.06462537, 0.86247367,\n        0.63395568, 0.33828496, 0.3974044 , 0.9049373 , 0.01777975],\n       [0.7579156 , 0.50452254, 0.12209427, 0.78431941, 0.17296802,\n        0.85883915, 0.87961002, 0.29208254, 0.8447526 , 0.51413351]])"
     },
     "execution_count": 4,
     "metadata": {},
     "output_type": "execute_result"
    }
   ],
   "source": [
    "c = np.random.rand(10, 10)\n",
    "c"
   ],
   "metadata": {
    "collapsed": false,
    "pycharm": {
     "name": "#%%\n"
    }
   }
  },
  {
   "cell_type": "code",
   "execution_count": 5,
   "outputs": [
    {
     "data": {
      "text/plain": "array([[ 0,  1,  2,  3,  4,  5,  6,  7,  8,  9],\n       [10, 11, 12, 13, 14, 15, 16, 17, 18, 19],\n       [20, 21, 22, 23, 24, 25, 26, 27, 28, 29],\n       [30, 31, 32, 33, 34, 35, 36, 37, 38, 39],\n       [40, 41, 42, 43, 44, 45, 46, 47, 48, 49],\n       [50, 51, 52, 53, 54, 55, 56, 57, 58, 59],\n       [60, 61, 62, 63, 64, 65, 66, 67, 68, 69],\n       [70, 71, 72, 73, 74, 75, 76, 77, 78, 79],\n       [80, 81, 82, 83, 84, 85, 86, 87, 88, 89],\n       [90, 91, 92, 93, 94, 95, 96, 97, 98, 99]])"
     },
     "execution_count": 5,
     "metadata": {},
     "output_type": "execute_result"
    }
   ],
   "source": [
    "A = np.reshape(a, (10, 10))\n",
    "A"
   ],
   "metadata": {
    "collapsed": false,
    "pycharm": {
     "name": "#%%\n"
    }
   }
  },
  {
   "cell_type": "code",
   "execution_count": 6,
   "outputs": [
    {
     "data": {
      "text/plain": "45"
     },
     "execution_count": 6,
     "metadata": {},
     "output_type": "execute_result"
    }
   ],
   "source": [
    "A[4,5]\n",
    "#A[4,5] will show the value in this place in our 2d array.\n",
    "#It first counts to 4 spots(including index 0) on the X axis, and then 5 spots(also including index 0) on the Y axis.\n",
    "#This corresponds to the value 45 in our 2d array"
   ],
   "metadata": {
    "collapsed": false,
    "pycharm": {
     "name": "#%%\n"
    }
   }
  },
  {
   "cell_type": "code",
   "execution_count": 7,
   "outputs": [
    {
     "data": {
      "text/plain": "50.14097074442768"
     },
     "execution_count": 7,
     "metadata": {},
     "output_type": "execute_result"
    }
   ],
   "source": [
    "sum(sum(c))"
   ],
   "metadata": {
    "collapsed": false,
    "pycharm": {
     "name": "#%%\n"
    }
   }
  },
  {
   "cell_type": "code",
   "execution_count": 8,
   "outputs": [
    {
     "data": {
      "text/plain": "array([ 0, 10, 20, 30, 40, 50, 60, 70, 80, 90])"
     },
     "execution_count": 8,
     "metadata": {},
     "output_type": "execute_result"
    }
   ],
   "source": [
    "B = np.transpose(b)\n",
    "B"
   ],
   "metadata": {
    "collapsed": false,
    "pycharm": {
     "name": "#%%\n"
    }
   }
  },
  {
   "cell_type": "code",
   "execution_count": 9,
   "outputs": [
    {
     "data": {
      "text/plain": "array([[ 0.76356878,  1.97529373,  2.61437348,  3.91798633,  4.69945184,\n         5.12529126,  6.47824524,  7.94077672,  8.44326195,  9.2645749 ],\n       [10.63449299, 11.13339254, 12.15901136, 13.02589032, 14.80760675,\n        15.27286109, 16.26469505, 17.06892441, 18.50414063, 19.36007101],\n       [20.80117039, 21.10455901, 22.96596496, 23.77283921, 24.39595632,\n        25.16833192, 26.40771812, 27.75881571, 28.6749555 , 29.86218065],\n       [30.30204836, 31.81018575, 32.80455424, 33.758054  , 34.53617043,\n        35.36928393, 36.97795525, 37.88224633, 38.92554048, 39.71752291],\n       [40.18719555, 41.98359858, 42.56447783, 43.2273898 , 44.91409605,\n        45.33921711, 46.98115309, 47.08831731, 48.76434935, 49.93500479],\n       [50.86761941, 51.59926282, 52.1424176 , 53.99320255, 54.19607161,\n        55.66752584, 56.19646181, 57.0401486 , 58.19304099, 59.22570062],\n       [60.05344286, 61.00918456, 62.66567584, 63.02313232, 64.20074051,\n        65.14137763, 66.15453632, 67.97719056, 68.68133856, 69.38515376],\n       [70.75618608, 71.14053408, 72.33255166, 73.27923219, 74.36410029,\n        75.31393987, 76.12435049, 77.59142807, 78.07972548, 79.91393621],\n       [80.23894976, 81.64210674, 82.56524294, 83.06462537, 84.86247367,\n        85.63395568, 86.33828496, 87.3974044 , 88.9049373 , 89.01777975],\n       [90.7579156 , 91.50452254, 92.12209427, 93.78431941, 94.17296802,\n        95.85883915, 96.87961002, 97.29208254, 98.8447526 , 99.51413351]])"
     },
     "execution_count": 9,
     "metadata": {},
     "output_type": "execute_result"
    }
   ],
   "source": [
    "A + c"
   ],
   "metadata": {
    "collapsed": false,
    "pycharm": {
     "name": "#%%\n"
    }
   }
  },
  {
   "cell_type": "code",
   "execution_count": 10,
   "outputs": [
    {
     "data": {
      "text/plain": "array([[ 0.        ,  0.97529373,  1.22874695,  2.753959  ,  2.79780736,\n         0.62645632,  2.86947146,  6.58543705,  3.54609557,  2.38117409],\n       [ 6.34492992,  1.46731798,  1.90813636,  0.33657422, 11.30649447,\n         4.09291636,  4.23512074,  1.17171493,  9.07453141,  6.84134919],\n       [16.02340788,  2.19573923, 21.25122913, 17.7753018 ,  9.50295158,\n         4.20829791, 10.60067103, 20.48802415, 18.89875413, 25.00323876],\n       [ 9.06145076, 25.11575815, 25.74573561, 25.01578198, 18.22979454,\n        12.92493749, 35.20638907, 32.64311439, 35.17053818, 27.98339362],\n       [ 7.48782211, 40.32754186, 23.70806896,  9.77776148, 40.2202261 ,\n        15.26477004, 45.13304226,  4.15091344, 36.68876902, 45.8152346 ],\n       [43.38097052, 30.56240372,  7.40571496, 52.63973515, 10.58786694,\n        36.71392115, 11.00186142,  2.28847001, 11.19637715, 13.31633686],\n       [ 3.20657158,  0.56025792, 41.27190182,  1.4573364 , 12.84739281,\n         9.18954602, 10.19939704, 65.47176778, 46.33102229, 26.57560931],\n       [52.93302541,  9.97791958, 23.94371975, 20.3839502 , 26.9434218 ,\n        23.54549015,  9.45063718, 45.53996156,  6.21858773, 72.20096067],\n       [19.11598094, 52.01064605, 46.34992118,  5.36390562, 72.44778861,\n        53.88623289, 29.09250676, 34.57418279, 79.63448198,  1.58239783],\n       [68.21240382, 45.91155084, 11.23267258, 72.94170524, 16.25899362,\n        81.58971898, 84.44256198, 28.33200682, 82.78575525, 50.89921714]])"
     },
     "execution_count": 10,
     "metadata": {},
     "output_type": "execute_result"
    }
   ],
   "source": [
    "A * c"
   ],
   "metadata": {
    "collapsed": false,
    "pycharm": {
     "name": "#%%\n"
    }
   }
  },
  {
   "cell_type": "code",
   "execution_count": 11,
   "outputs": [
    {
     "data": {
      "text/plain": "array([[ 22.57665629,  20.42017887,  19.4173119 ,  19.39059965,\n         20.05441959,  22.25891699,  21.34135968,  20.59842503,\n         28.14165699,  22.58343891],\n       [ 76.20255412,  69.44658226,  68.78095363,  67.85731483,\n         71.55077445,  61.16515176,  69.3714632 ,  70.97177161,\n         88.30208549,  74.54401999],\n       [129.82845194, 118.47298566, 118.14459537, 116.32403001,\n        123.04712932, 100.07138653, 117.40156672, 121.34511818,\n        148.46251399, 126.50460107],\n       [183.45434977, 167.49938905, 167.5082371 , 164.79074519,\n        174.54348419, 138.9776213 , 165.43167024, 171.71846476,\n        208.62294249, 178.46518215],\n       [237.08024759, 216.52579244, 216.87187884, 213.25746037,\n        226.03983905, 177.88385607, 213.46177376, 222.09181133,\n        268.78337099, 230.42576324],\n       [290.70614542, 265.55219583, 266.23552057, 261.72417554,\n        277.53619392, 216.79009084, 261.49187728, 272.46515791,\n        328.94379949, 282.38634432],\n       [344.33204324, 314.57859923, 315.59916231, 310.19089072,\n        329.03254879, 255.69632561, 309.5219808 , 322.83850448,\n        389.10422799, 334.3469254 ],\n       [397.95794107, 363.60500262, 364.96280404, 358.6576059 ,\n        380.52890365, 294.60256038, 357.55208433, 373.21185106,\n        449.26465649, 386.30750648],\n       [451.58383889, 412.63140601, 414.32644578, 407.12432108,\n        432.02525852, 333.50879515, 405.58218785, 423.58519763,\n        509.42508499, 438.26808756],\n       [505.20973672, 461.6578094 , 463.69008751, 455.59103625,\n        483.52161339, 372.41502993, 453.61229137, 473.95854421,\n        569.58551349, 490.22866865]])"
     },
     "execution_count": 11,
     "metadata": {},
     "output_type": "execute_result"
    }
   ],
   "source": [
    "np.dot(A, c)"
   ],
   "metadata": {
    "collapsed": false,
    "pycharm": {
     "name": "#%%\n"
    }
   }
  },
  {
   "cell_type": "markdown",
   "source": [
    "## Problem 2: Conceptual Questions\n",
    "### 1.\n",
    "\n",
    "In machine learning we cannot know if our model is overfitting or underfitting until we test our model after training, and this is why we split our initial dataset into training and test subsets. After the training of our model, we can see if our model does better on the training set than on the test set. If our model does alot better in the training set, then our model is probably overfitting.\n",
    "\n",
    "Now that we have diagnosed that our model is probably overfitting, lets try to fix it.\n",
    "\n",
    "There are many different solutions here, we could try training with more data to help our model. Working with more data will help even out curves and highlight abnormalities, but won't always help.\n",
    "\n",
    "Cross-validation is a very popular solution, where we use the same training data to train alot of mini train-test splits. in cross-validation, we use these splits to fix our model.\n",
    "\n",
    "We could also remove some features in our model, if our model is too complex, that might be the reason it's overfitting.\n",
    "\n",
    "The are many different techniques to regularize our model as well. Regularization is a way to tune the function by adding penalties. This reduces wrights and biases, and in turn helps to overcome overfitting. We will be looking more at regression in answer 2.\n",
    "\n",
    "Finally, i want to mention early stopping. The amount of iterations has a big impact on the performance of our model, and there will be a certain iteration where our model takes a turn into overfitting. Up until this point the model as been working to imprve the model, but will now generalize less and start overfitting instead. Stopping the iterations here leads to stopping the models ability to overfit."
   ],
   "metadata": {
    "collapsed": false,
    "pycharm": {
     "name": "#%% md\n"
    }
   }
  },
  {
   "cell_type": "markdown",
   "source": [
    "### 2.\n",
    "\n",
    "Both LASSO and ridge regression are advantageous in avoiding overfitting\n",
    "\n",
    "Ridge regression attemps to increase the bias to improve variance, this model performance is usually a little bad on the training set, but will perform consistently well on training and testing.\n",
    "\n",
    "Ridge regressions penalty term reduces the slope, and therefore the model becomes less sensitive to changes in independent variables. This is what prevents overfitting. We can tune how sensitive the model is to independent variables, which makes it very powerful for a programmer. However, we must also adjust this manually, which means we end up using time testing how sensitive the model is. This can be both advantageous and disadvantegeous.\n",
    "\n",
    "LASSO regression works kind of similar to Ridge, as a regression we still want to add a penalty term. In LASSO, we use the absolute value of the slope and bias and add that as our penalty term. LASSO is particularly useful for feature selection. LASSO is usually good if there are a small number for significant parameters, and the other parameters are close to zero.\n",
    "\n",
    "Lasso regression reaches 0 when looking at the sum of squared residuals, Ridge will never reach zero, but can get close.\n",
    "\n",
    "All in all the only real difference between Ridge and LASSO, is that Ridge adds the absolute values of the weights, while LASSO adds the weights squared."
   ],
   "metadata": {
    "collapsed": false,
    "pycharm": {
     "name": "#%% md\n"
    }
   }
  },
  {
   "cell_type": "markdown",
   "source": [
    "### 3.\n",
    "1."
   ],
   "metadata": {
    "collapsed": false,
    "pycharm": {
     "name": "#%% md\n"
    }
   }
  },
  {
   "cell_type": "code",
   "execution_count": 12,
   "outputs": [
    {
     "name": "stderr",
     "output_type": "stream",
     "text": [
      "<ipython-input-12-e4e45866c9fc>:1: ParserWarning: Falling back to the 'python' engine because the 'c' engine does not support regex separators (separators > 1 char and different from '\\s+' are interpreted as regex); you can avoid this warning by specifying engine='python'.\n",
      "  dfHouse = pd.read_csv (r'housedata.csv', sep=\"\\;\")\n"
     ]
    },
    {
     "data": {
      "text/plain": "             id  bedrooms  sqft_living  sqft_lot  floors  sqft_above  \\\n0    7129300520         3         1180      5650       1        1180   \n1    6414100192         3         2570      7242       2        2170   \n2    5631500400         2          770     10000       1         770   \n3    2487200875         4         1960      5000       1        1050   \n4    1954400510         3         1680      8080       1        1680   \n..          ...       ...          ...       ...     ...         ...   \n994  5147600105         2          740      6460       1         740   \n995  7437100570         4         1860      6325       2        1860   \n996  8856004730         2         1590     20917       1        1590   \n997  3856902996         2          850      2340       1         850   \n998  1442800370         2         1030      4188       1        1030   \n\n     sqft_basement     price  \n0                0  221900.0  \n1              400  538000.0  \n2                0  180000.0  \n3              910  604000.0  \n4                0  510000.0  \n..             ...       ...  \n994              0  178500.0  \n995              0  291000.0  \n996              0  199950.0  \n997              0  553500.0  \n998              0  189950.0  \n\n[999 rows x 8 columns]",
      "text/html": "<div>\n<style scoped>\n    .dataframe tbody tr th:only-of-type {\n        vertical-align: middle;\n    }\n\n    .dataframe tbody tr th {\n        vertical-align: top;\n    }\n\n    .dataframe thead th {\n        text-align: right;\n    }\n</style>\n<table border=\"1\" class=\"dataframe\">\n  <thead>\n    <tr style=\"text-align: right;\">\n      <th></th>\n      <th>id</th>\n      <th>bedrooms</th>\n      <th>sqft_living</th>\n      <th>sqft_lot</th>\n      <th>floors</th>\n      <th>sqft_above</th>\n      <th>sqft_basement</th>\n      <th>price</th>\n    </tr>\n  </thead>\n  <tbody>\n    <tr>\n      <th>0</th>\n      <td>7129300520</td>\n      <td>3</td>\n      <td>1180</td>\n      <td>5650</td>\n      <td>1</td>\n      <td>1180</td>\n      <td>0</td>\n      <td>221900.0</td>\n    </tr>\n    <tr>\n      <th>1</th>\n      <td>6414100192</td>\n      <td>3</td>\n      <td>2570</td>\n      <td>7242</td>\n      <td>2</td>\n      <td>2170</td>\n      <td>400</td>\n      <td>538000.0</td>\n    </tr>\n    <tr>\n      <th>2</th>\n      <td>5631500400</td>\n      <td>2</td>\n      <td>770</td>\n      <td>10000</td>\n      <td>1</td>\n      <td>770</td>\n      <td>0</td>\n      <td>180000.0</td>\n    </tr>\n    <tr>\n      <th>3</th>\n      <td>2487200875</td>\n      <td>4</td>\n      <td>1960</td>\n      <td>5000</td>\n      <td>1</td>\n      <td>1050</td>\n      <td>910</td>\n      <td>604000.0</td>\n    </tr>\n    <tr>\n      <th>4</th>\n      <td>1954400510</td>\n      <td>3</td>\n      <td>1680</td>\n      <td>8080</td>\n      <td>1</td>\n      <td>1680</td>\n      <td>0</td>\n      <td>510000.0</td>\n    </tr>\n    <tr>\n      <th>...</th>\n      <td>...</td>\n      <td>...</td>\n      <td>...</td>\n      <td>...</td>\n      <td>...</td>\n      <td>...</td>\n      <td>...</td>\n      <td>...</td>\n    </tr>\n    <tr>\n      <th>994</th>\n      <td>5147600105</td>\n      <td>2</td>\n      <td>740</td>\n      <td>6460</td>\n      <td>1</td>\n      <td>740</td>\n      <td>0</td>\n      <td>178500.0</td>\n    </tr>\n    <tr>\n      <th>995</th>\n      <td>7437100570</td>\n      <td>4</td>\n      <td>1860</td>\n      <td>6325</td>\n      <td>2</td>\n      <td>1860</td>\n      <td>0</td>\n      <td>291000.0</td>\n    </tr>\n    <tr>\n      <th>996</th>\n      <td>8856004730</td>\n      <td>2</td>\n      <td>1590</td>\n      <td>20917</td>\n      <td>1</td>\n      <td>1590</td>\n      <td>0</td>\n      <td>199950.0</td>\n    </tr>\n    <tr>\n      <th>997</th>\n      <td>3856902996</td>\n      <td>2</td>\n      <td>850</td>\n      <td>2340</td>\n      <td>1</td>\n      <td>850</td>\n      <td>0</td>\n      <td>553500.0</td>\n    </tr>\n    <tr>\n      <th>998</th>\n      <td>1442800370</td>\n      <td>2</td>\n      <td>1030</td>\n      <td>4188</td>\n      <td>1</td>\n      <td>1030</td>\n      <td>0</td>\n      <td>189950.0</td>\n    </tr>\n  </tbody>\n</table>\n<p>999 rows × 8 columns</p>\n</div>"
     },
     "execution_count": 12,
     "metadata": {},
     "output_type": "execute_result"
    }
   ],
   "source": [
    "dfHouse = pd.read_csv (r'housedata.csv', sep=\"\\;\")\n",
    "dfHouse"
   ],
   "metadata": {
    "collapsed": false,
    "pycharm": {
     "name": "#%%\n"
    }
   }
  },
  {
   "cell_type": "code",
   "execution_count": 13,
   "outputs": [
    {
     "data": {
      "text/plain": "id               0\nbedrooms         0\nsqft_living      0\nsqft_lot         0\nfloors           0\nsqft_above       0\nsqft_basement    0\nprice            0\ndtype: int64"
     },
     "execution_count": 13,
     "metadata": {},
     "output_type": "execute_result"
    }
   ],
   "source": [
    "dfHouse.isna().sum()"
   ],
   "metadata": {
    "collapsed": false,
    "pycharm": {
     "name": "#%%\n"
    }
   }
  },
  {
   "cell_type": "code",
   "execution_count": 14,
   "outputs": [
    {
     "data": {
      "text/plain": "<AxesSubplot:>"
     },
     "execution_count": 14,
     "metadata": {},
     "output_type": "execute_result"
    },
    {
     "data": {
      "text/plain": "<Figure size 432x288 with 2 Axes>",
      "image/png": "[encoded data removed]"
     },
     "metadata": {
      "needs_background": "light"
     },
     "output_type": "display_data"
    }
   ],
   "source": [
    "sns.heatmap(dfHouse.corr(), square=True)"
   ],
   "metadata": {
    "collapsed": false,
    "pycharm": {
     "name": "#%%\n"
    }
   }
  },
  {
   "cell_type": "code",
   "execution_count": 15,
   "outputs": [
    {
     "data": {
      "text/plain": "<seaborn.axisgrid.FacetGrid at 0x1e9834eed60>"
     },
     "execution_count": 15,
     "metadata": {},
     "output_type": "execute_result"
    },
    {
     "data": {
      "text/plain": "<Figure size 360x360 with 1 Axes>",
      "image/png": "[encoded data removed]"
     },
     "metadata": {
      "needs_background": "light"
     },
     "output_type": "display_data"
    }
   ],
   "source": [
    "sns.lmplot(x ='sqft_living', y = 'price', data = dfHouse)"
   ],
   "metadata": {
    "collapsed": false,
    "pycharm": {
     "name": "#%%\n"
    }
   }
  },
  {
   "cell_type": "code",
   "execution_count": 16,
   "outputs": [
    {
     "data": {
      "text/plain": "<Figure size 1440x1080 with 9 Axes>",
      "image/png": "[encoded data removed]"
     },
     "metadata": {
      "needs_background": "light"
     },
     "output_type": "display_data"
    }
   ],
   "source": [
    "dfHouse.hist(bins=50, figsize=(20,15))\n",
    "plt.show()"
   ],
   "metadata": {
    "collapsed": false,
    "pycharm": {
     "name": "#%%\n"
    }
   }
  },
  {
   "cell_type": "code",
   "execution_count": 17,
   "outputs": [],
   "source": [
    "X = dfHouse[['sqft_living', 'bedrooms', 'floors', 'sqft_above', 'sqft_basement', 'sqft_lot']]\n",
    "#X = dfHouse[['sqft_living']]\n",
    "\n",
    "y = dfHouse[['price']]\n",
    "\n",
    "X_train, X_test, y_train, y_test = train_test_split(X, y, test_size = 0.3)"
   ],
   "metadata": {
    "collapsed": false,
    "pycharm": {
     "name": "#%%\n"
    }
   }
  },
  {
   "cell_type": "code",
   "execution_count": 18,
   "outputs": [],
   "source": [
    "##train_set, test_set= train_test_split(dfHouse, test_size=0.2, random_state=420)"
   ],
   "metadata": {
    "collapsed": false,
    "pycharm": {
     "name": "#%%\n"
    }
   }
  },
  {
   "cell_type": "code",
   "execution_count": 19,
   "outputs": [
    {
     "data": {
      "text/plain": "LinearRegression()"
     },
     "execution_count": 19,
     "metadata": {},
     "output_type": "execute_result"
    }
   ],
   "source": [
    "MLregressor = LinearRegression()\n",
    "MLregressor.fit(X_train, y_train)"
   ],
   "metadata": {
    "collapsed": false,
    "pycharm": {
     "name": "#%%\n"
    }
   }
  },
  {
   "cell_type": "code",
   "execution_count": 20,
   "outputs": [
    {
     "data": {
      "text/plain": "0.4827271222939148"
     },
     "execution_count": 20,
     "metadata": {},
     "output_type": "execute_result"
    }
   ],
   "source": [
    "MLregressor.score(X_test, y_test)"
   ],
   "metadata": {
    "collapsed": false,
    "pycharm": {
     "name": "#%%\n"
    }
   }
  },
  {
   "cell_type": "code",
   "execution_count": 21,
   "outputs": [],
   "source": [
    "y_pred=MLregressor.predict(X_test)"
   ],
   "metadata": {
    "collapsed": false,
    "pycharm": {
     "name": "#%%\n"
    }
   }
  },
  {
   "cell_type": "code",
   "execution_count": 22,
   "outputs": [
    {
     "data": {
      "text/plain": "     Actual      Predicted\n0  385000.0  218179.482120\n1  346900.0  452129.891743\n2  529000.0  276008.637731\n3  201000.0  297681.058029\n4  525000.0  568951.689041\n5  696000.0  627031.422263\n6  865000.0  403749.910702\n7  662500.0  541684.497045\n8  382500.0  316858.277484\n9  260000.0  267083.538130",
      "text/html": "<div>\n<style scoped>\n    .dataframe tbody tr th:only-of-type {\n        vertical-align: middle;\n    }\n\n    .dataframe tbody tr th {\n        vertical-align: top;\n    }\n\n    .dataframe thead th {\n        text-align: right;\n    }\n</style>\n<table border=\"1\" class=\"dataframe\">\n  <thead>\n    <tr style=\"text-align: right;\">\n      <th></th>\n      <th>Actual</th>\n      <th>Predicted</th>\n    </tr>\n  </thead>\n  <tbody>\n    <tr>\n      <th>0</th>\n      <td>385000.0</td>\n      <td>218179.482120</td>\n    </tr>\n    <tr>\n      <th>1</th>\n      <td>346900.0</td>\n      <td>452129.891743</td>\n    </tr>\n    <tr>\n      <th>2</th>\n      <td>529000.0</td>\n      <td>276008.637731</td>\n    </tr>\n    <tr>\n      <th>3</th>\n      <td>201000.0</td>\n      <td>297681.058029</td>\n    </tr>\n    <tr>\n      <th>4</th>\n      <td>525000.0</td>\n      <td>568951.689041</td>\n    </tr>\n    <tr>\n      <th>5</th>\n      <td>696000.0</td>\n      <td>627031.422263</td>\n    </tr>\n    <tr>\n      <th>6</th>\n      <td>865000.0</td>\n      <td>403749.910702</td>\n    </tr>\n    <tr>\n      <th>7</th>\n      <td>662500.0</td>\n      <td>541684.497045</td>\n    </tr>\n    <tr>\n      <th>8</th>\n      <td>382500.0</td>\n      <td>316858.277484</td>\n    </tr>\n    <tr>\n      <th>9</th>\n      <td>260000.0</td>\n      <td>267083.538130</td>\n    </tr>\n  </tbody>\n</table>\n</div>"
     },
     "execution_count": 22,
     "metadata": {},
     "output_type": "execute_result"
    }
   ],
   "source": [
    "MLRevaluate = pd.DataFrame({\"Actual\": y_test.values.flatten(), \"Predicted\": y_pred.flatten()})\n",
    "MLRevaluate.head(10)"
   ],
   "metadata": {
    "collapsed": false,
    "pycharm": {
     "name": "#%%\n"
    }
   }
  },
  {
   "cell_type": "code",
   "execution_count": 23,
   "outputs": [
    {
     "data": {
      "text/plain": "<AxesSubplot:>"
     },
     "execution_count": 23,
     "metadata": {},
     "output_type": "execute_result"
    },
    {
     "data": {
      "text/plain": "<Figure size 432x288 with 1 Axes>",
      "image/png": "[encoded data removed]"
     },
     "metadata": {
      "needs_background": "light"
     },
     "output_type": "display_data"
    }
   ],
   "source": [
    "MLRevaluate.head(10).plot(kind =\"bar\")"
   ],
   "metadata": {
    "collapsed": false,
    "pycharm": {
     "name": "#%%\n"
    }
   }
  },
  {
   "cell_type": "code",
   "execution_count": 24,
   "outputs": [
    {
     "data": {
      "text/plain": "257296.4455187875"
     },
     "execution_count": 24,
     "metadata": {},
     "output_type": "execute_result"
    }
   ],
   "source": [
    "MLRrmse = sklearn.metrics.mean_squared_error(y_test.values.flatten(), y_pred.flatten(), squared = False)\n",
    "MLRrmse"
   ],
   "metadata": {
    "collapsed": false,
    "pycharm": {
     "name": "#%%\n"
    }
   }
  },
  {
   "cell_type": "code",
   "execution_count": 25,
   "outputs": [
    {
     "data": {
      "text/plain": "0.4827271222939148"
     },
     "execution_count": 25,
     "metadata": {},
     "output_type": "execute_result"
    }
   ],
   "source": [
    "MLRr2 = r2_score(y_test.values.flatten(), y_pred.flatten())\n",
    "MLRr2"
   ],
   "metadata": {
    "collapsed": false,
    "pycharm": {
     "name": "#%%\n"
    }
   }
  },
  {
   "cell_type": "code",
   "execution_count": 26,
   "outputs": [
    {
     "data": {
      "text/plain": "DecisionTreeRegressor()"
     },
     "execution_count": 26,
     "metadata": {},
     "output_type": "execute_result"
    }
   ],
   "source": [
    "DTregressor = DecisionTreeRegressor()\n",
    "DTregressor.fit(X_train, y_train)"
   ],
   "metadata": {
    "collapsed": false,
    "pycharm": {
     "name": "#%%\n"
    }
   }
  },
  {
   "cell_type": "code",
   "execution_count": 27,
   "outputs": [
    {
     "data": {
      "text/plain": "0.021594006006335764"
     },
     "execution_count": 27,
     "metadata": {},
     "output_type": "execute_result"
    }
   ],
   "source": [
    "DTregressor.score(X_test, y_test)\n"
   ],
   "metadata": {
    "collapsed": false,
    "pycharm": {
     "name": "#%%\n"
    }
   }
  },
  {
   "cell_type": "code",
   "execution_count": 28,
   "outputs": [],
   "source": [
    "y_pred = DTregressor.predict(X_test)"
   ],
   "metadata": {
    "collapsed": false,
    "pycharm": {
     "name": "#%%\n"
    }
   }
  },
  {
   "cell_type": "code",
   "execution_count": 29,
   "outputs": [
    {
     "data": {
      "text/plain": "       Actual  Predicted\n0    385000.0   204000.0\n1    346900.0   260000.0\n2    529000.0   385000.0\n3    201000.0   465000.0\n4    525000.0   560000.0\n..        ...        ...\n295  320000.0   245000.0\n296  309600.0   199000.0\n297  940000.0   640000.0\n298  636000.0   675000.0\n299  200000.0   215000.0\n\n[300 rows x 2 columns]",
      "text/html": "<div>\n<style scoped>\n    .dataframe tbody tr th:only-of-type {\n        vertical-align: middle;\n    }\n\n    .dataframe tbody tr th {\n        vertical-align: top;\n    }\n\n    .dataframe thead th {\n        text-align: right;\n    }\n</style>\n<table border=\"1\" class=\"dataframe\">\n  <thead>\n    <tr style=\"text-align: right;\">\n      <th></th>\n      <th>Actual</th>\n      <th>Predicted</th>\n    </tr>\n  </thead>\n  <tbody>\n    <tr>\n      <th>0</th>\n      <td>385000.0</td>\n      <td>204000.0</td>\n    </tr>\n    <tr>\n      <th>1</th>\n      <td>346900.0</td>\n      <td>260000.0</td>\n    </tr>\n    <tr>\n      <th>2</th>\n      <td>529000.0</td>\n      <td>385000.0</td>\n    </tr>\n    <tr>\n      <th>3</th>\n      <td>201000.0</td>\n      <td>465000.0</td>\n    </tr>\n    <tr>\n      <th>4</th>\n      <td>525000.0</td>\n      <td>560000.0</td>\n    </tr>\n    <tr>\n      <th>...</th>\n      <td>...</td>\n      <td>...</td>\n    </tr>\n    <tr>\n      <th>295</th>\n      <td>320000.0</td>\n      <td>245000.0</td>\n    </tr>\n    <tr>\n      <th>296</th>\n      <td>309600.0</td>\n      <td>199000.0</td>\n    </tr>\n    <tr>\n      <th>297</th>\n      <td>940000.0</td>\n      <td>640000.0</td>\n    </tr>\n    <tr>\n      <th>298</th>\n      <td>636000.0</td>\n      <td>675000.0</td>\n    </tr>\n    <tr>\n      <th>299</th>\n      <td>200000.0</td>\n      <td>215000.0</td>\n    </tr>\n  </tbody>\n</table>\n<p>300 rows × 2 columns</p>\n</div>"
     },
     "execution_count": 29,
     "metadata": {},
     "output_type": "execute_result"
    }
   ],
   "source": [
    "DTevaluate = pd.DataFrame({\"Actual\": y_test.values.flatten(), \"Predicted\": y_pred.flatten()})\n",
    "DTevaluate"
   ],
   "metadata": {
    "collapsed": false,
    "pycharm": {
     "name": "#%%\n"
    }
   }
  },
  {
   "cell_type": "code",
   "execution_count": 30,
   "outputs": [
    {
     "data": {
      "text/plain": "<AxesSubplot:>"
     },
     "execution_count": 30,
     "metadata": {},
     "output_type": "execute_result"
    },
    {
     "data": {
      "text/plain": "<Figure size 432x288 with 1 Axes>",
      "image/png": "[encoded data removed]"
     },
     "metadata": {
      "needs_background": "light"
     },
     "output_type": "display_data"
    }
   ],
   "source": [
    "DTevaluate.head(10).plot(kind =\"bar\")\n"
   ],
   "metadata": {
    "collapsed": false,
    "pycharm": {
     "name": "#%%\n"
    }
   }
  },
  {
   "cell_type": "markdown",
   "source": [
    "2."
   ],
   "metadata": {
    "collapsed": false,
    "pycharm": {
     "name": "#%% md\n"
    }
   }
  },
  {
   "cell_type": "code",
   "execution_count": 31,
   "outputs": [],
   "source": [
    "DTrmse = sklearn.metrics.mean_squared_error(y_test.values.flatten(), y_pred.flatten(), squared = False)\n",
    "\n"
   ],
   "metadata": {
    "collapsed": false,
    "pycharm": {
     "name": "#%%\n"
    }
   }
  },
  {
   "cell_type": "code",
   "execution_count": 32,
   "outputs": [],
   "source": [
    "DTr2 = r2_score(y_test.values.flatten(), y_pred.flatten())\n"
   ],
   "metadata": {
    "collapsed": false,
    "pycharm": {
     "name": "#%%\n"
    }
   }
  },
  {
   "cell_type": "code",
   "execution_count": 33,
   "outputs": [
    {
     "data": {
      "text/plain": "257296.4455187875"
     },
     "execution_count": 33,
     "metadata": {},
     "output_type": "execute_result"
    }
   ],
   "source": [
    "MLRrmse"
   ],
   "metadata": {
    "collapsed": false,
    "pycharm": {
     "name": "#%%\n"
    }
   }
  },
  {
   "cell_type": "code",
   "execution_count": 34,
   "outputs": [
    {
     "data": {
      "text/plain": "353861.6393431478"
     },
     "execution_count": 34,
     "metadata": {},
     "output_type": "execute_result"
    }
   ],
   "source": [
    "DTrmse"
   ],
   "metadata": {
    "collapsed": false,
    "pycharm": {
     "name": "#%%\n"
    }
   }
  },
  {
   "cell_type": "code",
   "execution_count": 35,
   "outputs": [
    {
     "data": {
      "text/plain": "0.4827271222939148"
     },
     "execution_count": 35,
     "metadata": {},
     "output_type": "execute_result"
    }
   ],
   "source": [
    "MLRr2"
   ],
   "metadata": {
    "collapsed": false,
    "pycharm": {
     "name": "#%%\n"
    }
   }
  },
  {
   "cell_type": "code",
   "execution_count": 36,
   "outputs": [
    {
     "data": {
      "text/plain": "0.021594006006335764"
     },
     "execution_count": 36,
     "metadata": {},
     "output_type": "execute_result"
    }
   ],
   "source": [
    "DTr2"
   ],
   "metadata": {
    "collapsed": false,
    "pycharm": {
     "name": "#%%\n"
    }
   }
  },
  {
   "cell_type": "markdown",
   "source": [
    "As we can see from the previous values, Multi Linear Regression scores way higher than Decision tree regression. By using root mean squared error, the error between the values is way lower by using MLR. These values represent the measurement of the differences between values. As such, a lower values is better here.\n",
    "\n",
    "The coefficient of determination tells us the goodness of fit for out model, or in other words, how well our data fits the model. It ranges from 0 to 1, with 0 being the worst possible result. As such, Decision tree regression proves to perform much worse than Multilinear regression here.\n",
    "\n",
    "As both of our model evaluations point to MLR being the better regression model, i conclude that MLR is better than DT in this case."
   ],
   "metadata": {
    "collapsed": false,
    "pycharm": {
     "name": "#%% md\n"
    }
   }
  },
  {
   "cell_type": "code",
   "execution_count": 37,
   "outputs": [
    {
     "data": {
      "text/plain": "     Item_Identifier  Item_Weight Item_Fat_Content  Item_Visibility  \\\n0              NCF31        9.130          Low Fat         0.051928   \n1              FDD59       10.500          Regular         0.000000   \n2              FDQ52       17.000          Low Fat         0.119571   \n3              FDK24        9.195          Low Fat         0.101276   \n4              NCA18       10.100          Low Fat         0.056078   \n...              ...          ...              ...              ...   \n1902           FDF53       20.750              reg         0.083607   \n1903           FDF22        6.865          Low Fat         0.056783   \n1904           NCJ29       10.600          Low Fat         0.035186   \n1905           FDN46        7.210          Regular         0.145221   \n1906           DRG01       14.800          Low Fat         0.044878   \n\n               Item_Type  Item_MRP Outlet_Identifier  \\\n0              Household  151.4024            OUT049   \n1          Starchy Foods   78.2960            OUT046   \n2           Frozen Foods  249.7434            OUT049   \n3           Baking Goods   46.4744            OUT035   \n4              Household  117.8492            OUT046   \n...                  ...       ...               ...   \n1902        Frozen Foods  178.8318            OUT046   \n1903         Snack Foods  214.5218            OUT013   \n1904  Health and Hygiene   85.1224            OUT035   \n1905         Snack Foods  103.1332            OUT018   \n1906         Soft Drinks   75.4670            OUT046   \n\n      Outlet_Establishment_Year Outlet_Size Outlet_Location_Type  \\\n0                          1999      Medium               Tier 1   \n1                          1997       Small               Tier 1   \n2                          1999      Medium               Tier 1   \n3                          2004       Small               Tier 2   \n4                          1997       Small               Tier 1   \n...                         ...         ...                  ...   \n1902                       1997       Small               Tier 1   \n1903                       1987        High               Tier 3   \n1904                       2004       Small               Tier 2   \n1905                       2009      Medium               Tier 3   \n1906                       1997       Small               Tier 1   \n\n            Outlet_Type  \n0     Supermarket Type1  \n1     Supermarket Type1  \n2     Supermarket Type1  \n3     Supermarket Type1  \n4     Supermarket Type1  \n...                 ...  \n1902  Supermarket Type1  \n1903  Supermarket Type1  \n1904  Supermarket Type1  \n1905  Supermarket Type2  \n1906  Supermarket Type1  \n\n[1907 rows x 11 columns]",
      "text/html": "<div>\n<style scoped>\n    .dataframe tbody tr th:only-of-type {\n        vertical-align: middle;\n    }\n\n    .dataframe tbody tr th {\n        vertical-align: top;\n    }\n\n    .dataframe thead th {\n        text-align: right;\n    }\n</style>\n<table border=\"1\" class=\"dataframe\">\n  <thead>\n    <tr style=\"text-align: right;\">\n      <th></th>\n      <th>Item_Identifier</th>\n      <th>Item_Weight</th>\n      <th>Item_Fat_Content</th>\n      <th>Item_Visibility</th>\n      <th>Item_Type</th>\n      <th>Item_MRP</th>\n      <th>Outlet_Identifier</th>\n      <th>Outlet_Establishment_Year</th>\n      <th>Outlet_Size</th>\n      <th>Outlet_Location_Type</th>\n      <th>Outlet_Type</th>\n    </tr>\n  </thead>\n  <tbody>\n    <tr>\n      <th>0</th>\n      <td>NCF31</td>\n      <td>9.130</td>\n      <td>Low Fat</td>\n      <td>0.051928</td>\n      <td>Household</td>\n      <td>151.4024</td>\n      <td>OUT049</td>\n      <td>1999</td>\n      <td>Medium</td>\n      <td>Tier 1</td>\n      <td>Supermarket Type1</td>\n    </tr>\n    <tr>\n      <th>1</th>\n      <td>FDD59</td>\n      <td>10.500</td>\n      <td>Regular</td>\n      <td>0.000000</td>\n      <td>Starchy Foods</td>\n      <td>78.2960</td>\n      <td>OUT046</td>\n      <td>1997</td>\n      <td>Small</td>\n      <td>Tier 1</td>\n      <td>Supermarket Type1</td>\n    </tr>\n    <tr>\n      <th>2</th>\n      <td>FDQ52</td>\n      <td>17.000</td>\n      <td>Low Fat</td>\n      <td>0.119571</td>\n      <td>Frozen Foods</td>\n      <td>249.7434</td>\n      <td>OUT049</td>\n      <td>1999</td>\n      <td>Medium</td>\n      <td>Tier 1</td>\n      <td>Supermarket Type1</td>\n    </tr>\n    <tr>\n      <th>3</th>\n      <td>FDK24</td>\n      <td>9.195</td>\n      <td>Low Fat</td>\n      <td>0.101276</td>\n      <td>Baking Goods</td>\n      <td>46.4744</td>\n      <td>OUT035</td>\n      <td>2004</td>\n      <td>Small</td>\n      <td>Tier 2</td>\n      <td>Supermarket Type1</td>\n    </tr>\n    <tr>\n      <th>4</th>\n      <td>NCA18</td>\n      <td>10.100</td>\n      <td>Low Fat</td>\n      <td>0.056078</td>\n      <td>Household</td>\n      <td>117.8492</td>\n      <td>OUT046</td>\n      <td>1997</td>\n      <td>Small</td>\n      <td>Tier 1</td>\n      <td>Supermarket Type1</td>\n    </tr>\n    <tr>\n      <th>...</th>\n      <td>...</td>\n      <td>...</td>\n      <td>...</td>\n      <td>...</td>\n      <td>...</td>\n      <td>...</td>\n      <td>...</td>\n      <td>...</td>\n      <td>...</td>\n      <td>...</td>\n      <td>...</td>\n    </tr>\n    <tr>\n      <th>1902</th>\n      <td>FDF53</td>\n      <td>20.750</td>\n      <td>reg</td>\n      <td>0.083607</td>\n      <td>Frozen Foods</td>\n      <td>178.8318</td>\n      <td>OUT046</td>\n      <td>1997</td>\n      <td>Small</td>\n      <td>Tier 1</td>\n      <td>Supermarket Type1</td>\n    </tr>\n    <tr>\n      <th>1903</th>\n      <td>FDF22</td>\n      <td>6.865</td>\n      <td>Low Fat</td>\n      <td>0.056783</td>\n      <td>Snack Foods</td>\n      <td>214.5218</td>\n      <td>OUT013</td>\n      <td>1987</td>\n      <td>High</td>\n      <td>Tier 3</td>\n      <td>Supermarket Type1</td>\n    </tr>\n    <tr>\n      <th>1904</th>\n      <td>NCJ29</td>\n      <td>10.600</td>\n      <td>Low Fat</td>\n      <td>0.035186</td>\n      <td>Health and Hygiene</td>\n      <td>85.1224</td>\n      <td>OUT035</td>\n      <td>2004</td>\n      <td>Small</td>\n      <td>Tier 2</td>\n      <td>Supermarket Type1</td>\n    </tr>\n    <tr>\n      <th>1905</th>\n      <td>FDN46</td>\n      <td>7.210</td>\n      <td>Regular</td>\n      <td>0.145221</td>\n      <td>Snack Foods</td>\n      <td>103.1332</td>\n      <td>OUT018</td>\n      <td>2009</td>\n      <td>Medium</td>\n      <td>Tier 3</td>\n      <td>Supermarket Type2</td>\n    </tr>\n    <tr>\n      <th>1906</th>\n      <td>DRG01</td>\n      <td>14.800</td>\n      <td>Low Fat</td>\n      <td>0.044878</td>\n      <td>Soft Drinks</td>\n      <td>75.4670</td>\n      <td>OUT046</td>\n      <td>1997</td>\n      <td>Small</td>\n      <td>Tier 1</td>\n      <td>Supermarket Type1</td>\n    </tr>\n  </tbody>\n</table>\n<p>1907 rows × 11 columns</p>\n</div>"
     },
     "execution_count": 37,
     "metadata": {},
     "output_type": "execute_result"
    }
   ],
   "source": [
    "dfTrain = pd.read_csv (r'train.csv')\n",
    "dfTest = pd.read_csv (r'test.csv')\n",
    "\n",
    "dfTest"
   ],
   "metadata": {
    "collapsed": false,
    "pycharm": {
     "name": "#%%\n"
    }
   }
  },
  {
   "cell_type": "code",
   "execution_count": 38,
   "outputs": [
    {
     "ename": "AttributeError",
     "evalue": "'DataFrame' object has no attribute 'str'",
     "output_type": "error",
     "traceback": [
      "\u001B[1;31m---------------------------------------------------------------------------\u001B[0m",
      "\u001B[1;31mAttributeError\u001B[0m                            Traceback (most recent call last)",
      "\u001B[1;32m<ipython-input-38-9735338b3889>\u001B[0m in \u001B[0;36m<module>\u001B[1;34m\u001B[0m\n\u001B[1;32m----> 1\u001B[1;33m \u001B[0mdfTest\u001B[0m\u001B[1;33m.\u001B[0m\u001B[0mstr\u001B[0m\u001B[1;33m.\u001B[0m\u001B[0msplit\u001B[0m\u001B[1;33m(\u001B[0m\u001B[1;34m','\u001B[0m\u001B[1;33m,\u001B[0m \u001B[0mexpand\u001B[0m\u001B[1;33m=\u001B[0m\u001B[1;32mTrue\u001B[0m\u001B[1;33m)\u001B[0m\u001B[1;33m\u001B[0m\u001B[1;33m\u001B[0m\u001B[0m\n\u001B[0m\u001B[0;32m      2\u001B[0m \u001B[0mdfTest\u001B[0m\u001B[1;33m\u001B[0m\u001B[1;33m\u001B[0m\u001B[0m\n\u001B[0;32m      3\u001B[0m \u001B[1;33m\u001B[0m\u001B[0m\n",
      "\u001B[1;32m~\\anaconda3\\envs\\MLExam\\lib\\site-packages\\pandas\\core\\generic.py\u001B[0m in \u001B[0;36m__getattr__\u001B[1;34m(self, name)\u001B[0m\n\u001B[0;32m   5137\u001B[0m             \u001B[1;32mif\u001B[0m \u001B[0mself\u001B[0m\u001B[1;33m.\u001B[0m\u001B[0m_info_axis\u001B[0m\u001B[1;33m.\u001B[0m\u001B[0m_can_hold_identifiers_and_holds_name\u001B[0m\u001B[1;33m(\u001B[0m\u001B[0mname\u001B[0m\u001B[1;33m)\u001B[0m\u001B[1;33m:\u001B[0m\u001B[1;33m\u001B[0m\u001B[1;33m\u001B[0m\u001B[0m\n\u001B[0;32m   5138\u001B[0m                 \u001B[1;32mreturn\u001B[0m \u001B[0mself\u001B[0m\u001B[1;33m[\u001B[0m\u001B[0mname\u001B[0m\u001B[1;33m]\u001B[0m\u001B[1;33m\u001B[0m\u001B[1;33m\u001B[0m\u001B[0m\n\u001B[1;32m-> 5139\u001B[1;33m             \u001B[1;32mreturn\u001B[0m \u001B[0mobject\u001B[0m\u001B[1;33m.\u001B[0m\u001B[0m__getattribute__\u001B[0m\u001B[1;33m(\u001B[0m\u001B[0mself\u001B[0m\u001B[1;33m,\u001B[0m \u001B[0mname\u001B[0m\u001B[1;33m)\u001B[0m\u001B[1;33m\u001B[0m\u001B[1;33m\u001B[0m\u001B[0m\n\u001B[0m\u001B[0;32m   5140\u001B[0m \u001B[1;33m\u001B[0m\u001B[0m\n\u001B[0;32m   5141\u001B[0m     \u001B[1;32mdef\u001B[0m \u001B[0m__setattr__\u001B[0m\u001B[1;33m(\u001B[0m\u001B[0mself\u001B[0m\u001B[1;33m,\u001B[0m \u001B[0mname\u001B[0m\u001B[1;33m:\u001B[0m \u001B[0mstr\u001B[0m\u001B[1;33m,\u001B[0m \u001B[0mvalue\u001B[0m\u001B[1;33m)\u001B[0m \u001B[1;33m->\u001B[0m \u001B[1;32mNone\u001B[0m\u001B[1;33m:\u001B[0m\u001B[1;33m\u001B[0m\u001B[1;33m\u001B[0m\u001B[0m\n",
      "\u001B[1;31mAttributeError\u001B[0m: 'DataFrame' object has no attribute 'str'"
     ]
    }
   ],
   "source": [
    "dfTest.str.split(',', expand=True)\n",
    "dfTest"
   ],
   "metadata": {
    "collapsed": false,
    "pycharm": {
     "name": "#%%\n"
    }
   }
  },
  {
   "cell_type": "code",
   "execution_count": 53,
   "outputs": [],
   "source": [
    "dfTrain.sort_values(by='Item_Identifier', inplace=True)"
   ],
   "metadata": {
    "collapsed": false,
    "pycharm": {
     "name": "#%%\n"
    }
   }
  },
  {
   "cell_type": "code",
   "execution_count": 54,
   "outputs": [
    {
     "data": {
      "text/plain": "     Item_Identifier  Item_Weight Item_Fat_Content  Item_Visibility  \\\n118            DRA12        11.60          Low Fat         0.041178   \n1245           DRA12        11.60          Low Fat         0.040912   \n1197           DRA12        11.60          Low Fat         0.000000   \n1693           DRA12        11.60               LF         0.000000   \n4900           DRA24        19.35          Regular         0.039921   \n...              ...          ...              ...              ...   \n3959           NCZ53         9.60          Low Fat         0.024457   \n214            NCZ54        14.65          Low Fat         0.000000   \n2839           NCZ54        14.65          Low Fat         0.083359   \n1969           NCZ54        14.65          Low Fat         0.083528   \n1896           NCZ54          NaN          Low Fat         0.082956   \n\n               Item_Type  Item_MRP Outlet_Identifier  \\\n118          Soft Drinks  140.3154            OUT017   \n1245         Soft Drinks  142.3154            OUT013   \n1197         Soft Drinks  141.6154            OUT045   \n1693         Soft Drinks  141.9154            OUT035   \n4900         Soft Drinks  163.3868            OUT035   \n...                  ...       ...               ...   \n3959  Health and Hygiene  186.6214            OUT013   \n214            Household  161.5552            OUT010   \n2839           Household  161.9552            OUT046   \n1969           Household  162.4552            OUT045   \n1896           Household  164.0552            OUT027   \n\n      Outlet_Establishment_Year Outlet_Size Outlet_Location_Type  \\\n118                        2007         NaN               Tier 2   \n1245                       1987        High               Tier 3   \n1197                       2002         NaN               Tier 2   \n1693                       2004       Small               Tier 2   \n4900                       2004       Small               Tier 2   \n...                         ...         ...                  ...   \n3959                       1987        High               Tier 3   \n214                        1998         NaN               Tier 3   \n2839                       1997       Small               Tier 1   \n1969                       2002         NaN               Tier 2   \n1896                       1985      Medium               Tier 3   \n\n            Outlet_Type  Item_Outlet_Sales  \n118   Supermarket Type1          2552.6772  \n1245  Supermarket Type1          2552.6772  \n1197  Supermarket Type1          3829.0158  \n1693  Supermarket Type1           992.7078  \n4900  Supermarket Type1          3439.5228  \n...                 ...                ...  \n3959  Supermarket Type1          3203.1638  \n214       Grocery Store           324.9104  \n2839  Supermarket Type1          4711.2008  \n1969  Supermarket Type1          2274.3728  \n1896  Supermarket Type3          5523.4768  \n\n[5000 rows x 12 columns]",
      "text/html": "<div>\n<style scoped>\n    .dataframe tbody tr th:only-of-type {\n        vertical-align: middle;\n    }\n\n    .dataframe tbody tr th {\n        vertical-align: top;\n    }\n\n    .dataframe thead th {\n        text-align: right;\n    }\n</style>\n<table border=\"1\" class=\"dataframe\">\n  <thead>\n    <tr style=\"text-align: right;\">\n      <th></th>\n      <th>Item_Identifier</th>\n      <th>Item_Weight</th>\n      <th>Item_Fat_Content</th>\n      <th>Item_Visibility</th>\n      <th>Item_Type</th>\n      <th>Item_MRP</th>\n      <th>Outlet_Identifier</th>\n      <th>Outlet_Establishment_Year</th>\n      <th>Outlet_Size</th>\n      <th>Outlet_Location_Type</th>\n      <th>Outlet_Type</th>\n      <th>Item_Outlet_Sales</th>\n    </tr>\n  </thead>\n  <tbody>\n    <tr>\n      <th>118</th>\n      <td>DRA12</td>\n      <td>11.60</td>\n      <td>Low Fat</td>\n      <td>0.041178</td>\n      <td>Soft Drinks</td>\n      <td>140.3154</td>\n      <td>OUT017</td>\n      <td>2007</td>\n      <td>NaN</td>\n      <td>Tier 2</td>\n      <td>Supermarket Type1</td>\n      <td>2552.6772</td>\n    </tr>\n    <tr>\n      <th>1245</th>\n      <td>DRA12</td>\n      <td>11.60</td>\n      <td>Low Fat</td>\n      <td>0.040912</td>\n      <td>Soft Drinks</td>\n      <td>142.3154</td>\n      <td>OUT013</td>\n      <td>1987</td>\n      <td>High</td>\n      <td>Tier 3</td>\n      <td>Supermarket Type1</td>\n      <td>2552.6772</td>\n    </tr>\n    <tr>\n      <th>1197</th>\n      <td>DRA12</td>\n      <td>11.60</td>\n      <td>Low Fat</td>\n      <td>0.000000</td>\n      <td>Soft Drinks</td>\n      <td>141.6154</td>\n      <td>OUT045</td>\n      <td>2002</td>\n      <td>NaN</td>\n      <td>Tier 2</td>\n      <td>Supermarket Type1</td>\n      <td>3829.0158</td>\n    </tr>\n    <tr>\n      <th>1693</th>\n      <td>DRA12</td>\n      <td>11.60</td>\n      <td>LF</td>\n      <td>0.000000</td>\n      <td>Soft Drinks</td>\n      <td>141.9154</td>\n      <td>OUT035</td>\n      <td>2004</td>\n      <td>Small</td>\n      <td>Tier 2</td>\n      <td>Supermarket Type1</td>\n      <td>992.7078</td>\n    </tr>\n    <tr>\n      <th>4900</th>\n      <td>DRA24</td>\n      <td>19.35</td>\n      <td>Regular</td>\n      <td>0.039921</td>\n      <td>Soft Drinks</td>\n      <td>163.3868</td>\n      <td>OUT035</td>\n      <td>2004</td>\n      <td>Small</td>\n      <td>Tier 2</td>\n      <td>Supermarket Type1</td>\n      <td>3439.5228</td>\n    </tr>\n    <tr>\n      <th>...</th>\n      <td>...</td>\n      <td>...</td>\n      <td>...</td>\n      <td>...</td>\n      <td>...</td>\n      <td>...</td>\n      <td>...</td>\n      <td>...</td>\n      <td>...</td>\n      <td>...</td>\n      <td>...</td>\n      <td>...</td>\n    </tr>\n    <tr>\n      <th>3959</th>\n      <td>NCZ53</td>\n      <td>9.60</td>\n      <td>Low Fat</td>\n      <td>0.024457</td>\n      <td>Health and Hygiene</td>\n      <td>186.6214</td>\n      <td>OUT013</td>\n      <td>1987</td>\n      <td>High</td>\n      <td>Tier 3</td>\n      <td>Supermarket Type1</td>\n      <td>3203.1638</td>\n    </tr>\n    <tr>\n      <th>214</th>\n      <td>NCZ54</td>\n      <td>14.65</td>\n      <td>Low Fat</td>\n      <td>0.000000</td>\n      <td>Household</td>\n      <td>161.5552</td>\n      <td>OUT010</td>\n      <td>1998</td>\n      <td>NaN</td>\n      <td>Tier 3</td>\n      <td>Grocery Store</td>\n      <td>324.9104</td>\n    </tr>\n    <tr>\n      <th>2839</th>\n      <td>NCZ54</td>\n      <td>14.65</td>\n      <td>Low Fat</td>\n      <td>0.083359</td>\n      <td>Household</td>\n      <td>161.9552</td>\n      <td>OUT046</td>\n      <td>1997</td>\n      <td>Small</td>\n      <td>Tier 1</td>\n      <td>Supermarket Type1</td>\n      <td>4711.2008</td>\n    </tr>\n    <tr>\n      <th>1969</th>\n      <td>NCZ54</td>\n      <td>14.65</td>\n      <td>Low Fat</td>\n      <td>0.083528</td>\n      <td>Household</td>\n      <td>162.4552</td>\n      <td>OUT045</td>\n      <td>2002</td>\n      <td>NaN</td>\n      <td>Tier 2</td>\n      <td>Supermarket Type1</td>\n      <td>2274.3728</td>\n    </tr>\n    <tr>\n      <th>1896</th>\n      <td>NCZ54</td>\n      <td>NaN</td>\n      <td>Low Fat</td>\n      <td>0.082956</td>\n      <td>Household</td>\n      <td>164.0552</td>\n      <td>OUT027</td>\n      <td>1985</td>\n      <td>Medium</td>\n      <td>Tier 3</td>\n      <td>Supermarket Type3</td>\n      <td>5523.4768</td>\n    </tr>\n  </tbody>\n</table>\n<p>5000 rows × 12 columns</p>\n</div>"
     },
     "execution_count": 54,
     "metadata": {},
     "output_type": "execute_result"
    }
   ],
   "source": [
    "dfTrain"
   ],
   "metadata": {
    "collapsed": false,
    "pycharm": {
     "name": "#%%\n"
    }
   }
  },
  {
   "cell_type": "code",
   "execution_count": 59,
   "outputs": [],
   "source": [
    "dfTrain['Item_Weight'].fillna(method='ffill', inplace=True)"
   ],
   "metadata": {
    "collapsed": false,
    "pycharm": {
     "name": "#%%\n"
    }
   }
  },
  {
   "cell_type": "code",
   "execution_count": 62,
   "outputs": [
    {
     "data": {
      "text/plain": "Item_Identifier              0\nItem_Weight                  0\nItem_Fat_Content             0\nItem_Visibility              0\nItem_Type                    0\nItem_MRP                     0\nOutlet_Identifier            0\nOutlet_Establishment_Year    0\nOutlet_Size                  1\nOutlet_Location_Type         0\nOutlet_Type                  0\nItem_Outlet_Sales            0\ndtype: int64"
     },
     "execution_count": 62,
     "metadata": {},
     "output_type": "execute_result"
    }
   ],
   "source": [
    "dfTrain.isna().sum()"
   ],
   "metadata": {
    "collapsed": false,
    "pycharm": {
     "name": "#%%\n"
    }
   }
  },
  {
   "cell_type": "code",
   "execution_count": 61,
   "outputs": [],
   "source": [
    "dfTrain['Outlet_Size'].fillna(method='ffill', inplace=True)"
   ],
   "metadata": {
    "collapsed": false,
    "pycharm": {
     "name": "#%%\n"
    }
   }
  },
  {
   "cell_type": "code",
   "execution_count": 68,
   "outputs": [],
   "source": [
    "dfTrain['Outlet_Size'].fillna(value='High', inplace=True)"
   ],
   "metadata": {
    "collapsed": false,
    "pycharm": {
     "name": "#%%\n"
    }
   }
  },
  {
   "cell_type": "code",
   "execution_count": 69,
   "outputs": [
    {
     "data": {
      "text/plain": "Item_Identifier              0\nItem_Weight                  0\nItem_Fat_Content             0\nItem_Visibility              0\nItem_Type                    0\nItem_MRP                     0\nOutlet_Identifier            0\nOutlet_Establishment_Year    0\nOutlet_Size                  0\nOutlet_Location_Type         0\nOutlet_Type                  0\nItem_Outlet_Sales            0\ndtype: int64"
     },
     "execution_count": 69,
     "metadata": {},
     "output_type": "execute_result"
    }
   ],
   "source": [
    "dfTrain.isna().sum()"
   ],
   "metadata": {
    "collapsed": false,
    "pycharm": {
     "name": "#%%\n"
    }
   }
  },
  {
   "cell_type": "code",
   "execution_count": 84,
   "outputs": [],
   "source": [
    "mean_visibility = dfTrain['Item_Visibility'].mean(skipna=True)\n",
    "mean_visibility_Test = dfTest['Item_Visibility'].mean(skipna=True)"
   ],
   "metadata": {
    "collapsed": false,
    "pycharm": {
     "name": "#%%\n"
    }
   }
  },
  {
   "cell_type": "code",
   "execution_count": 85,
   "outputs": [],
   "source": [
    "dfTrain['Item_Visibility'] = dfTrain['Item_Visibility'].mask(dfTrain['Item_Visibility'] == 0, mean_visibility)\n",
    "dfTest['Item_Visibility'] = dfTest['Item_Visibility'].mask(dfTest['Item_Visibility'] == 0, mean_visibility_Test)"
   ],
   "metadata": {
    "collapsed": false,
    "pycharm": {
     "name": "#%%\n"
    }
   }
  },
  {
   "cell_type": "code",
   "execution_count": 72,
   "outputs": [
    {
     "data": {
      "text/plain": "     Item_Identifier  Item_Weight Item_Fat_Content  Item_Visibility  \\\n118            DRA12        11.60          Low Fat         0.041178   \n1245           DRA12        11.60          Low Fat         0.040912   \n1197           DRA12        11.60          Low Fat         0.065671   \n1693           DRA12        11.60               LF         0.065671   \n4900           DRA24        19.35          Regular         0.039921   \n...              ...          ...              ...              ...   \n3959           NCZ53         9.60          Low Fat         0.024457   \n214            NCZ54        14.65          Low Fat         0.065671   \n2839           NCZ54        14.65          Low Fat         0.083359   \n1969           NCZ54        14.65          Low Fat         0.083528   \n1896           NCZ54        14.65          Low Fat         0.082956   \n\n               Item_Type  Item_MRP Outlet_Identifier  \\\n118          Soft Drinks  140.3154            OUT017   \n1245         Soft Drinks  142.3154            OUT013   \n1197         Soft Drinks  141.6154            OUT045   \n1693         Soft Drinks  141.9154            OUT035   \n4900         Soft Drinks  163.3868            OUT035   \n...                  ...       ...               ...   \n3959  Health and Hygiene  186.6214            OUT013   \n214            Household  161.5552            OUT010   \n2839           Household  161.9552            OUT046   \n1969           Household  162.4552            OUT045   \n1896           Household  164.0552            OUT027   \n\n      Outlet_Establishment_Year Outlet_Size Outlet_Location_Type  \\\n118                        2007        High               Tier 2   \n1245                       1987        High               Tier 3   \n1197                       2002        High               Tier 2   \n1693                       2004       Small               Tier 2   \n4900                       2004       Small               Tier 2   \n...                         ...         ...                  ...   \n3959                       1987        High               Tier 3   \n214                        1998        High               Tier 3   \n2839                       1997       Small               Tier 1   \n1969                       2002       Small               Tier 2   \n1896                       1985      Medium               Tier 3   \n\n            Outlet_Type  Item_Outlet_Sales  \n118   Supermarket Type1          2552.6772  \n1245  Supermarket Type1          2552.6772  \n1197  Supermarket Type1          3829.0158  \n1693  Supermarket Type1           992.7078  \n4900  Supermarket Type1          3439.5228  \n...                 ...                ...  \n3959  Supermarket Type1          3203.1638  \n214       Grocery Store           324.9104  \n2839  Supermarket Type1          4711.2008  \n1969  Supermarket Type1          2274.3728  \n1896  Supermarket Type3          5523.4768  \n\n[5000 rows x 12 columns]",
      "text/html": "<div>\n<style scoped>\n    .dataframe tbody tr th:only-of-type {\n        vertical-align: middle;\n    }\n\n    .dataframe tbody tr th {\n        vertical-align: top;\n    }\n\n    .dataframe thead th {\n        text-align: right;\n    }\n</style>\n<table border=\"1\" class=\"dataframe\">\n  <thead>\n    <tr style=\"text-align: right;\">\n      <th></th>\n      <th>Item_Identifier</th>\n      <th>Item_Weight</th>\n      <th>Item_Fat_Content</th>\n      <th>Item_Visibility</th>\n      <th>Item_Type</th>\n      <th>Item_MRP</th>\n      <th>Outlet_Identifier</th>\n      <th>Outlet_Establishment_Year</th>\n      <th>Outlet_Size</th>\n      <th>Outlet_Location_Type</th>\n      <th>Outlet_Type</th>\n      <th>Item_Outlet_Sales</th>\n    </tr>\n  </thead>\n  <tbody>\n    <tr>\n      <th>118</th>\n      <td>DRA12</td>\n      <td>11.60</td>\n      <td>Low Fat</td>\n      <td>0.041178</td>\n      <td>Soft Drinks</td>\n      <td>140.3154</td>\n      <td>OUT017</td>\n      <td>2007</td>\n      <td>High</td>\n      <td>Tier 2</td>\n      <td>Supermarket Type1</td>\n      <td>2552.6772</td>\n    </tr>\n    <tr>\n      <th>1245</th>\n      <td>DRA12</td>\n      <td>11.60</td>\n      <td>Low Fat</td>\n      <td>0.040912</td>\n      <td>Soft Drinks</td>\n      <td>142.3154</td>\n      <td>OUT013</td>\n      <td>1987</td>\n      <td>High</td>\n      <td>Tier 3</td>\n      <td>Supermarket Type1</td>\n      <td>2552.6772</td>\n    </tr>\n    <tr>\n      <th>1197</th>\n      <td>DRA12</td>\n      <td>11.60</td>\n      <td>Low Fat</td>\n      <td>0.065671</td>\n      <td>Soft Drinks</td>\n      <td>141.6154</td>\n      <td>OUT045</td>\n      <td>2002</td>\n      <td>High</td>\n      <td>Tier 2</td>\n      <td>Supermarket Type1</td>\n      <td>3829.0158</td>\n    </tr>\n    <tr>\n      <th>1693</th>\n      <td>DRA12</td>\n      <td>11.60</td>\n      <td>LF</td>\n      <td>0.065671</td>\n      <td>Soft Drinks</td>\n      <td>141.9154</td>\n      <td>OUT035</td>\n      <td>2004</td>\n      <td>Small</td>\n      <td>Tier 2</td>\n      <td>Supermarket Type1</td>\n      <td>992.7078</td>\n    </tr>\n    <tr>\n      <th>4900</th>\n      <td>DRA24</td>\n      <td>19.35</td>\n      <td>Regular</td>\n      <td>0.039921</td>\n      <td>Soft Drinks</td>\n      <td>163.3868</td>\n      <td>OUT035</td>\n      <td>2004</td>\n      <td>Small</td>\n      <td>Tier 2</td>\n      <td>Supermarket Type1</td>\n      <td>3439.5228</td>\n    </tr>\n    <tr>\n      <th>...</th>\n      <td>...</td>\n      <td>...</td>\n      <td>...</td>\n      <td>...</td>\n      <td>...</td>\n      <td>...</td>\n      <td>...</td>\n      <td>...</td>\n      <td>...</td>\n      <td>...</td>\n      <td>...</td>\n      <td>...</td>\n    </tr>\n    <tr>\n      <th>3959</th>\n      <td>NCZ53</td>\n      <td>9.60</td>\n      <td>Low Fat</td>\n      <td>0.024457</td>\n      <td>Health and Hygiene</td>\n      <td>186.6214</td>\n      <td>OUT013</td>\n      <td>1987</td>\n      <td>High</td>\n      <td>Tier 3</td>\n      <td>Supermarket Type1</td>\n      <td>3203.1638</td>\n    </tr>\n    <tr>\n      <th>214</th>\n      <td>NCZ54</td>\n      <td>14.65</td>\n      <td>Low Fat</td>\n      <td>0.065671</td>\n      <td>Household</td>\n      <td>161.5552</td>\n      <td>OUT010</td>\n      <td>1998</td>\n      <td>High</td>\n      <td>Tier 3</td>\n      <td>Grocery Store</td>\n      <td>324.9104</td>\n    </tr>\n    <tr>\n      <th>2839</th>\n      <td>NCZ54</td>\n      <td>14.65</td>\n      <td>Low Fat</td>\n      <td>0.083359</td>\n      <td>Household</td>\n      <td>161.9552</td>\n      <td>OUT046</td>\n      <td>1997</td>\n      <td>Small</td>\n      <td>Tier 1</td>\n      <td>Supermarket Type1</td>\n      <td>4711.2008</td>\n    </tr>\n    <tr>\n      <th>1969</th>\n      <td>NCZ54</td>\n      <td>14.65</td>\n      <td>Low Fat</td>\n      <td>0.083528</td>\n      <td>Household</td>\n      <td>162.4552</td>\n      <td>OUT045</td>\n      <td>2002</td>\n      <td>Small</td>\n      <td>Tier 2</td>\n      <td>Supermarket Type1</td>\n      <td>2274.3728</td>\n    </tr>\n    <tr>\n      <th>1896</th>\n      <td>NCZ54</td>\n      <td>14.65</td>\n      <td>Low Fat</td>\n      <td>0.082956</td>\n      <td>Household</td>\n      <td>164.0552</td>\n      <td>OUT027</td>\n      <td>1985</td>\n      <td>Medium</td>\n      <td>Tier 3</td>\n      <td>Supermarket Type3</td>\n      <td>5523.4768</td>\n    </tr>\n  </tbody>\n</table>\n<p>5000 rows × 12 columns</p>\n</div>"
     },
     "execution_count": 72,
     "metadata": {},
     "output_type": "execute_result"
    }
   ],
   "source": [
    "dfTrain"
   ],
   "metadata": {
    "collapsed": false,
    "pycharm": {
     "name": "#%%\n"
    }
   }
  },
  {
   "cell_type": "code",
   "execution_count": 75,
   "outputs": [],
   "source": [
    "dfTrain['Item_Fat_Content'] = dfTrain['Item_Fat_Content'].mask(dfTrain['Item_Fat_Content'] == 'LF', 'Low Fat')\n"
   ],
   "metadata": {
    "collapsed": false,
    "pycharm": {
     "name": "#%%\n"
    }
   }
  },
  {
   "cell_type": "code",
   "execution_count": 77,
   "outputs": [],
   "source": [
    "dfTrain['Item_Fat_Content'] = dfTrain['Item_Fat_Content'].mask(dfTrain['Item_Fat_Content'] == 'low fat', 'Low Fat')\n",
    "dfTrain['Item_Fat_Content'] = dfTrain['Item_Fat_Content'].mask(dfTrain['Item_Fat_Content'] == 'reg', 'Regular')\n"
   ],
   "metadata": {
    "collapsed": false,
    "pycharm": {
     "name": "#%%\n"
    }
   }
  },
  {
   "cell_type": "code",
   "execution_count": 79,
   "outputs": [
    {
     "data": {
      "text/plain": "0"
     },
     "execution_count": 79,
     "metadata": {},
     "output_type": "execute_result"
    }
   ],
   "source": [
    "dfTrain.duplicated().sum()"
   ],
   "metadata": {
    "collapsed": false,
    "pycharm": {
     "name": "#%%\n"
    }
   }
  },
  {
   "cell_type": "code",
   "execution_count": 82,
   "outputs": [
    {
     "data": {
      "text/plain": "     Item_Identifier  Item_Weight Item_Fat_Content  Item_Visibility  \\\n0              NCF31        9.130          Low Fat         0.051928   \n1              FDD59       10.500          Regular         0.000000   \n2              FDQ52       17.000          Low Fat         0.119571   \n3              FDK24        9.195          Low Fat         0.101276   \n4              NCA18       10.100          Low Fat         0.056078   \n...              ...          ...              ...              ...   \n1902           FDF53       20.750              reg         0.083607   \n1903           FDF22        6.865          Low Fat         0.056783   \n1904           NCJ29       10.600          Low Fat         0.035186   \n1905           FDN46        7.210          Regular         0.145221   \n1906           DRG01       14.800          Low Fat         0.044878   \n\n               Item_Type  Item_MRP Outlet_Identifier  \\\n0              Household  151.4024            OUT049   \n1          Starchy Foods   78.2960            OUT046   \n2           Frozen Foods  249.7434            OUT049   \n3           Baking Goods   46.4744            OUT035   \n4              Household  117.8492            OUT046   \n...                  ...       ...               ...   \n1902        Frozen Foods  178.8318            OUT046   \n1903         Snack Foods  214.5218            OUT013   \n1904  Health and Hygiene   85.1224            OUT035   \n1905         Snack Foods  103.1332            OUT018   \n1906         Soft Drinks   75.4670            OUT046   \n\n      Outlet_Establishment_Year Outlet_Size Outlet_Location_Type  \\\n0                          1999      Medium               Tier 1   \n1                          1997       Small               Tier 1   \n2                          1999      Medium               Tier 1   \n3                          2004       Small               Tier 2   \n4                          1997       Small               Tier 1   \n...                         ...         ...                  ...   \n1902                       1997       Small               Tier 1   \n1903                       1987        High               Tier 3   \n1904                       2004       Small               Tier 2   \n1905                       2009      Medium               Tier 3   \n1906                       1997       Small               Tier 1   \n\n            Outlet_Type  \n0     Supermarket Type1  \n1     Supermarket Type1  \n2     Supermarket Type1  \n3     Supermarket Type1  \n4     Supermarket Type1  \n...                 ...  \n1902  Supermarket Type1  \n1903  Supermarket Type1  \n1904  Supermarket Type1  \n1905  Supermarket Type2  \n1906  Supermarket Type1  \n\n[1907 rows x 11 columns]",
      "text/html": "<div>\n<style scoped>\n    .dataframe tbody tr th:only-of-type {\n        vertical-align: middle;\n    }\n\n    .dataframe tbody tr th {\n        vertical-align: top;\n    }\n\n    .dataframe thead th {\n        text-align: right;\n    }\n</style>\n<table border=\"1\" class=\"dataframe\">\n  <thead>\n    <tr style=\"text-align: right;\">\n      <th></th>\n      <th>Item_Identifier</th>\n      <th>Item_Weight</th>\n      <th>Item_Fat_Content</th>\n      <th>Item_Visibility</th>\n      <th>Item_Type</th>\n      <th>Item_MRP</th>\n      <th>Outlet_Identifier</th>\n      <th>Outlet_Establishment_Year</th>\n      <th>Outlet_Size</th>\n      <th>Outlet_Location_Type</th>\n      <th>Outlet_Type</th>\n    </tr>\n  </thead>\n  <tbody>\n    <tr>\n      <th>0</th>\n      <td>NCF31</td>\n      <td>9.130</td>\n      <td>Low Fat</td>\n      <td>0.051928</td>\n      <td>Household</td>\n      <td>151.4024</td>\n      <td>OUT049</td>\n      <td>1999</td>\n      <td>Medium</td>\n      <td>Tier 1</td>\n      <td>Supermarket Type1</td>\n    </tr>\n    <tr>\n      <th>1</th>\n      <td>FDD59</td>\n      <td>10.500</td>\n      <td>Regular</td>\n      <td>0.000000</td>\n      <td>Starchy Foods</td>\n      <td>78.2960</td>\n      <td>OUT046</td>\n      <td>1997</td>\n      <td>Small</td>\n      <td>Tier 1</td>\n      <td>Supermarket Type1</td>\n    </tr>\n    <tr>\n      <th>2</th>\n      <td>FDQ52</td>\n      <td>17.000</td>\n      <td>Low Fat</td>\n      <td>0.119571</td>\n      <td>Frozen Foods</td>\n      <td>249.7434</td>\n      <td>OUT049</td>\n      <td>1999</td>\n      <td>Medium</td>\n      <td>Tier 1</td>\n      <td>Supermarket Type1</td>\n    </tr>\n    <tr>\n      <th>3</th>\n      <td>FDK24</td>\n      <td>9.195</td>\n      <td>Low Fat</td>\n      <td>0.101276</td>\n      <td>Baking Goods</td>\n      <td>46.4744</td>\n      <td>OUT035</td>\n      <td>2004</td>\n      <td>Small</td>\n      <td>Tier 2</td>\n      <td>Supermarket Type1</td>\n    </tr>\n    <tr>\n      <th>4</th>\n      <td>NCA18</td>\n      <td>10.100</td>\n      <td>Low Fat</td>\n      <td>0.056078</td>\n      <td>Household</td>\n      <td>117.8492</td>\n      <td>OUT046</td>\n      <td>1997</td>\n      <td>Small</td>\n      <td>Tier 1</td>\n      <td>Supermarket Type1</td>\n    </tr>\n    <tr>\n      <th>...</th>\n      <td>...</td>\n      <td>...</td>\n      <td>...</td>\n      <td>...</td>\n      <td>...</td>\n      <td>...</td>\n      <td>...</td>\n      <td>...</td>\n      <td>...</td>\n      <td>...</td>\n      <td>...</td>\n    </tr>\n    <tr>\n      <th>1902</th>\n      <td>FDF53</td>\n      <td>20.750</td>\n      <td>reg</td>\n      <td>0.083607</td>\n      <td>Frozen Foods</td>\n      <td>178.8318</td>\n      <td>OUT046</td>\n      <td>1997</td>\n      <td>Small</td>\n      <td>Tier 1</td>\n      <td>Supermarket Type1</td>\n    </tr>\n    <tr>\n      <th>1903</th>\n      <td>FDF22</td>\n      <td>6.865</td>\n      <td>Low Fat</td>\n      <td>0.056783</td>\n      <td>Snack Foods</td>\n      <td>214.5218</td>\n      <td>OUT013</td>\n      <td>1987</td>\n      <td>High</td>\n      <td>Tier 3</td>\n      <td>Supermarket Type1</td>\n    </tr>\n    <tr>\n      <th>1904</th>\n      <td>NCJ29</td>\n      <td>10.600</td>\n      <td>Low Fat</td>\n      <td>0.035186</td>\n      <td>Health and Hygiene</td>\n      <td>85.1224</td>\n      <td>OUT035</td>\n      <td>2004</td>\n      <td>Small</td>\n      <td>Tier 2</td>\n      <td>Supermarket Type1</td>\n    </tr>\n    <tr>\n      <th>1905</th>\n      <td>FDN46</td>\n      <td>7.210</td>\n      <td>Regular</td>\n      <td>0.145221</td>\n      <td>Snack Foods</td>\n      <td>103.1332</td>\n      <td>OUT018</td>\n      <td>2009</td>\n      <td>Medium</td>\n      <td>Tier 3</td>\n      <td>Supermarket Type2</td>\n    </tr>\n    <tr>\n      <th>1906</th>\n      <td>DRG01</td>\n      <td>14.800</td>\n      <td>Low Fat</td>\n      <td>0.044878</td>\n      <td>Soft Drinks</td>\n      <td>75.4670</td>\n      <td>OUT046</td>\n      <td>1997</td>\n      <td>Small</td>\n      <td>Tier 1</td>\n      <td>Supermarket Type1</td>\n    </tr>\n  </tbody>\n</table>\n<p>1907 rows × 11 columns</p>\n</div>"
     },
     "execution_count": 82,
     "metadata": {},
     "output_type": "execute_result"
    }
   ],
   "source": [
    "dfTest"
   ],
   "metadata": {
    "collapsed": false,
    "pycharm": {
     "name": "#%%\n"
    }
   }
  },
  {
   "cell_type": "code",
   "execution_count": 81,
   "outputs": [
    {
     "data": {
      "text/plain": "     Item_Identifier  Item_Weight Item_Fat_Content  Item_Visibility  \\\n118            DRA12        11.60          Low Fat         0.041178   \n1245           DRA12        11.60          Low Fat         0.040912   \n1197           DRA12        11.60          Low Fat         0.065671   \n1693           DRA12        11.60          Low Fat         0.065671   \n4900           DRA24        19.35          Regular         0.039921   \n...              ...          ...              ...              ...   \n3959           NCZ53         9.60          Low Fat         0.024457   \n214            NCZ54        14.65          Low Fat         0.065671   \n2839           NCZ54        14.65          Low Fat         0.083359   \n1969           NCZ54        14.65          Low Fat         0.083528   \n1896           NCZ54        14.65          Low Fat         0.082956   \n\n               Item_Type  Item_MRP Outlet_Identifier  \\\n118          Soft Drinks  140.3154            OUT017   \n1245         Soft Drinks  142.3154            OUT013   \n1197         Soft Drinks  141.6154            OUT045   \n1693         Soft Drinks  141.9154            OUT035   \n4900         Soft Drinks  163.3868            OUT035   \n...                  ...       ...               ...   \n3959  Health and Hygiene  186.6214            OUT013   \n214            Household  161.5552            OUT010   \n2839           Household  161.9552            OUT046   \n1969           Household  162.4552            OUT045   \n1896           Household  164.0552            OUT027   \n\n      Outlet_Establishment_Year Outlet_Size Outlet_Location_Type  \\\n118                        2007        High               Tier 2   \n1245                       1987        High               Tier 3   \n1197                       2002        High               Tier 2   \n1693                       2004       Small               Tier 2   \n4900                       2004       Small               Tier 2   \n...                         ...         ...                  ...   \n3959                       1987        High               Tier 3   \n214                        1998        High               Tier 3   \n2839                       1997       Small               Tier 1   \n1969                       2002       Small               Tier 2   \n1896                       1985      Medium               Tier 3   \n\n            Outlet_Type  Item_Outlet_Sales  \n118   Supermarket Type1          2552.6772  \n1245  Supermarket Type1          2552.6772  \n1197  Supermarket Type1          3829.0158  \n1693  Supermarket Type1           992.7078  \n4900  Supermarket Type1          3439.5228  \n...                 ...                ...  \n3959  Supermarket Type1          3203.1638  \n214       Grocery Store           324.9104  \n2839  Supermarket Type1          4711.2008  \n1969  Supermarket Type1          2274.3728  \n1896  Supermarket Type3          5523.4768  \n\n[5000 rows x 12 columns]",
      "text/html": "<div>\n<style scoped>\n    .dataframe tbody tr th:only-of-type {\n        vertical-align: middle;\n    }\n\n    .dataframe tbody tr th {\n        vertical-align: top;\n    }\n\n    .dataframe thead th {\n        text-align: right;\n    }\n</style>\n<table border=\"1\" class=\"dataframe\">\n  <thead>\n    <tr style=\"text-align: right;\">\n      <th></th>\n      <th>Item_Identifier</th>\n      <th>Item_Weight</th>\n      <th>Item_Fat_Content</th>\n      <th>Item_Visibility</th>\n      <th>Item_Type</th>\n      <th>Item_MRP</th>\n      <th>Outlet_Identifier</th>\n      <th>Outlet_Establishment_Year</th>\n      <th>Outlet_Size</th>\n      <th>Outlet_Location_Type</th>\n      <th>Outlet_Type</th>\n      <th>Item_Outlet_Sales</th>\n    </tr>\n  </thead>\n  <tbody>\n    <tr>\n      <th>118</th>\n      <td>DRA12</td>\n      <td>11.60</td>\n      <td>Low Fat</td>\n      <td>0.041178</td>\n      <td>Soft Drinks</td>\n      <td>140.3154</td>\n      <td>OUT017</td>\n      <td>2007</td>\n      <td>High</td>\n      <td>Tier 2</td>\n      <td>Supermarket Type1</td>\n      <td>2552.6772</td>\n    </tr>\n    <tr>\n      <th>1245</th>\n      <td>DRA12</td>\n      <td>11.60</td>\n      <td>Low Fat</td>\n      <td>0.040912</td>\n      <td>Soft Drinks</td>\n      <td>142.3154</td>\n      <td>OUT013</td>\n      <td>1987</td>\n      <td>High</td>\n      <td>Tier 3</td>\n      <td>Supermarket Type1</td>\n      <td>2552.6772</td>\n    </tr>\n    <tr>\n      <th>1197</th>\n      <td>DRA12</td>\n      <td>11.60</td>\n      <td>Low Fat</td>\n      <td>0.065671</td>\n      <td>Soft Drinks</td>\n      <td>141.6154</td>\n      <td>OUT045</td>\n      <td>2002</td>\n      <td>High</td>\n      <td>Tier 2</td>\n      <td>Supermarket Type1</td>\n      <td>3829.0158</td>\n    </tr>\n    <tr>\n      <th>1693</th>\n      <td>DRA12</td>\n      <td>11.60</td>\n      <td>Low Fat</td>\n      <td>0.065671</td>\n      <td>Soft Drinks</td>\n      <td>141.9154</td>\n      <td>OUT035</td>\n      <td>2004</td>\n      <td>Small</td>\n      <td>Tier 2</td>\n      <td>Supermarket Type1</td>\n      <td>992.7078</td>\n    </tr>\n    <tr>\n      <th>4900</th>\n      <td>DRA24</td>\n      <td>19.35</td>\n      <td>Regular</td>\n      <td>0.039921</td>\n      <td>Soft Drinks</td>\n      <td>163.3868</td>\n      <td>OUT035</td>\n      <td>2004</td>\n      <td>Small</td>\n      <td>Tier 2</td>\n      <td>Supermarket Type1</td>\n      <td>3439.5228</td>\n    </tr>\n    <tr>\n      <th>...</th>\n      <td>...</td>\n      <td>...</td>\n      <td>...</td>\n      <td>...</td>\n      <td>...</td>\n      <td>...</td>\n      <td>...</td>\n      <td>...</td>\n      <td>...</td>\n      <td>...</td>\n      <td>...</td>\n      <td>...</td>\n    </tr>\n    <tr>\n      <th>3959</th>\n      <td>NCZ53</td>\n      <td>9.60</td>\n      <td>Low Fat</td>\n      <td>0.024457</td>\n      <td>Health and Hygiene</td>\n      <td>186.6214</td>\n      <td>OUT013</td>\n      <td>1987</td>\n      <td>High</td>\n      <td>Tier 3</td>\n      <td>Supermarket Type1</td>\n      <td>3203.1638</td>\n    </tr>\n    <tr>\n      <th>214</th>\n      <td>NCZ54</td>\n      <td>14.65</td>\n      <td>Low Fat</td>\n      <td>0.065671</td>\n      <td>Household</td>\n      <td>161.5552</td>\n      <td>OUT010</td>\n      <td>1998</td>\n      <td>High</td>\n      <td>Tier 3</td>\n      <td>Grocery Store</td>\n      <td>324.9104</td>\n    </tr>\n    <tr>\n      <th>2839</th>\n      <td>NCZ54</td>\n      <td>14.65</td>\n      <td>Low Fat</td>\n      <td>0.083359</td>\n      <td>Household</td>\n      <td>161.9552</td>\n      <td>OUT046</td>\n      <td>1997</td>\n      <td>Small</td>\n      <td>Tier 1</td>\n      <td>Supermarket Type1</td>\n      <td>4711.2008</td>\n    </tr>\n    <tr>\n      <th>1969</th>\n      <td>NCZ54</td>\n      <td>14.65</td>\n      <td>Low Fat</td>\n      <td>0.083528</td>\n      <td>Household</td>\n      <td>162.4552</td>\n      <td>OUT045</td>\n      <td>2002</td>\n      <td>Small</td>\n      <td>Tier 2</td>\n      <td>Supermarket Type1</td>\n      <td>2274.3728</td>\n    </tr>\n    <tr>\n      <th>1896</th>\n      <td>NCZ54</td>\n      <td>14.65</td>\n      <td>Low Fat</td>\n      <td>0.082956</td>\n      <td>Household</td>\n      <td>164.0552</td>\n      <td>OUT027</td>\n      <td>1985</td>\n      <td>Medium</td>\n      <td>Tier 3</td>\n      <td>Supermarket Type3</td>\n      <td>5523.4768</td>\n    </tr>\n  </tbody>\n</table>\n<p>5000 rows × 12 columns</p>\n</div>"
     },
     "execution_count": 81,
     "metadata": {},
     "output_type": "execute_result"
    }
   ],
   "source": [],
   "metadata": {
    "collapsed": false,
    "pycharm": {
     "name": "#%%\n"
    }
   }
  },
  {
   "cell_type": "code",
   "execution_count": null,
   "outputs": [],
   "source": [],
   "metadata": {
    "collapsed": false,
    "pycharm": {
     "name": "#%%\n"
    }
   }
  }
 ],
 "metadata": {
  "kernelspec": {
   "name": "pycharm-eec3f6af",
   "language": "python",
   "display_name": "PyCharm (MLExam)"
  },
  "language_info": {
   "codemirror_mode": {
    "name": "ipython",
    "version": 2
   },
   "file_extension": ".py",
   "mimetype": "text/x-python",
   "name": "python",
   "nbconvert_exporter": "python",
   "pygments_lexer": "ipython2",
   "version": "2.7.6"
  }
 },
 "nbformat": 4,
 "nbformat_minor": 0
}