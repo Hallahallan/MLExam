{
 "cells": [
  {
   "cell_type": "code",
   "execution_count": 25,
   "metadata": {
    "collapsed": true,
    "pycharm": {
     "name": "#%%\n"
    }
   },
   "outputs": [],
   "source": [
    "import numpy as np\n",
    "import matplotlib.pyplot as plt\n",
    "import pandas as pd"
   ]
  },
  {
   "cell_type": "markdown",
   "source": [
    "# Exam in machine learning\n",
    "## Problem 1: Basic Numpy\n"
   ],
   "metadata": {
    "collapsed": false,
    "pycharm": {
     "name": "#%% md\n"
    }
   }
  },
  {
   "cell_type": "code",
   "execution_count": null,
   "outputs": [],
   "source": [
    "a = np.arange(start=0, stop=100, step=1)\n",
    "a"
   ],
   "metadata": {
    "collapsed": false,
    "pycharm": {
     "name": "#%%\n"
    }
   }
  },
  {
   "cell_type": "code",
   "execution_count": 8,
   "outputs": [
    {
     "data": {
      "text/plain": "array([ 0, 10, 20, 30, 40, 50, 60, 70, 80, 90])"
     },
     "execution_count": 8,
     "metadata": {},
     "output_type": "execute_result"
    }
   ],
   "source": [
    "b = np.arange(start=0, stop=100, step=10)\n",
    "b"
   ],
   "metadata": {
    "collapsed": false,
    "pycharm": {
     "name": "#%%\n"
    }
   }
  },
  {
   "cell_type": "code",
   "execution_count": 11,
   "outputs": [
    {
     "data": {
      "text/plain": "array([[0.81629492, 0.28033926, 0.41113646, 0.13566938, 0.05819918,\n        0.59451959, 0.12874026, 0.84181137, 0.26135688, 0.09379284],\n       [0.45207367, 0.91296756, 0.59982322, 0.31545896, 0.82718068,\n        0.82662813, 0.90309392, 0.69619348, 0.63667599, 0.43778415],\n       [0.67295924, 0.93605583, 0.88094892, 0.73739614, 0.30449274,\n        0.46305946, 0.1211687 , 0.81399157, 0.00590454, 0.52595663],\n       [0.60020288, 0.6614541 , 0.73430628, 0.52339346, 0.37854249,\n        0.96629343, 0.68588352, 0.76892475, 0.24642354, 0.2295479 ],\n       [0.45849462, 0.73132736, 0.85580262, 0.41956303, 0.29160515,\n        0.54063802, 0.8364506 , 0.12482611, 0.46795912, 0.10686432],\n       [0.01480666, 0.92971404, 0.41605066, 0.32307966, 0.15940011,\n        0.03849413, 0.8144902 , 0.11527343, 0.63726429, 0.37027986],\n       [0.95779155, 0.96306203, 0.66336082, 0.93576065, 0.56186876,\n        0.52144264, 0.32676403, 0.60579006, 0.53855311, 0.99202029],\n       [0.16430679, 0.18375078, 0.57065335, 0.11153951, 0.32797412,\n        0.69362207, 0.6576828 , 0.64371051, 0.01245316, 0.72117456],\n       [0.71191776, 0.94465595, 0.06634719, 0.03964992, 0.48318054,\n        0.94942108, 0.62114017, 0.36012068, 0.54524249, 0.15393907],\n       [0.84164221, 0.21007059, 0.40622622, 0.8254156 , 0.85282375,\n        0.68675866, 0.16609589, 0.99045242, 0.11350597, 0.23521771]])"
     },
     "execution_count": 11,
     "metadata": {},
     "output_type": "execute_result"
    }
   ],
   "source": [
    "c = np.random.rand(10, 10)\n",
    "c"
   ],
   "metadata": {
    "collapsed": false,
    "pycharm": {
     "name": "#%%\n"
    }
   }
  },
  {
   "cell_type": "code",
   "execution_count": 13,
   "outputs": [
    {
     "data": {
      "text/plain": "array([[ 0,  1,  2,  3,  4,  5,  6,  7,  8,  9],\n       [10, 11, 12, 13, 14, 15, 16, 17, 18, 19],\n       [20, 21, 22, 23, 24, 25, 26, 27, 28, 29],\n       [30, 31, 32, 33, 34, 35, 36, 37, 38, 39],\n       [40, 41, 42, 43, 44, 45, 46, 47, 48, 49],\n       [50, 51, 52, 53, 54, 55, 56, 57, 58, 59],\n       [60, 61, 62, 63, 64, 65, 66, 67, 68, 69],\n       [70, 71, 72, 73, 74, 75, 76, 77, 78, 79],\n       [80, 81, 82, 83, 84, 85, 86, 87, 88, 89],\n       [90, 91, 92, 93, 94, 95, 96, 97, 98, 99]])"
     },
     "execution_count": 13,
     "metadata": {},
     "output_type": "execute_result"
    }
   ],
   "source": [
    "A = np.reshape(a, (10, 10))\n",
    "A"
   ],
   "metadata": {
    "collapsed": false,
    "pycharm": {
     "name": "#%%\n"
    }
   }
  },
  {
   "cell_type": "code",
   "execution_count": 14,
   "outputs": [
    {
     "data": {
      "text/plain": "45"
     },
     "execution_count": 14,
     "metadata": {},
     "output_type": "execute_result"
    }
   ],
   "source": [
    "A[4,5]\n",
    "#A[4,5] will show the value in this place in our 2d array.\n",
    "#It first counts to 4 spots(including index 0) on the X axis, and then 5 spots(also including index 0) on the Y axis.\n",
    "#This corresponds to the value 45 in our 2d array"
   ],
   "metadata": {
    "collapsed": false,
    "pycharm": {
     "name": "#%%\n"
    }
   }
  },
  {
   "cell_type": "code",
   "execution_count": 16,
   "outputs": [
    {
     "data": {
      "text/plain": "51.49613550356568"
     },
     "execution_count": 16,
     "metadata": {},
     "output_type": "execute_result"
    }
   ],
   "source": [
    "sum(sum(c))\n"
   ],
   "metadata": {
    "collapsed": false,
    "pycharm": {
     "name": "#%%\n"
    }
   }
  },
  {
   "cell_type": "code",
   "execution_count": 20,
   "outputs": [
    {
     "data": {
      "text/plain": "array([ 0, 10, 20, 30, 40, 50, 60, 70, 80, 90])"
     },
     "execution_count": 20,
     "metadata": {},
     "output_type": "execute_result"
    }
   ],
   "source": [
    "B = np.transpose(b)\n",
    "B"
   ],
   "metadata": {
    "collapsed": false,
    "pycharm": {
     "name": "#%%\n"
    }
   }
  },
  {
   "cell_type": "code",
   "execution_count": 22,
   "outputs": [
    {
     "data": {
      "text/plain": "array([[ 0.81629492,  1.28033926,  2.41113646,  3.13566938,  4.05819918,\n         5.59451959,  6.12874026,  7.84181137,  8.26135688,  9.09379284],\n       [10.45207367, 11.91296756, 12.59982322, 13.31545896, 14.82718068,\n        15.82662813, 16.90309392, 17.69619348, 18.63667599, 19.43778415],\n       [20.67295924, 21.93605583, 22.88094892, 23.73739614, 24.30449274,\n        25.46305946, 26.1211687 , 27.81399157, 28.00590454, 29.52595663],\n       [30.60020288, 31.6614541 , 32.73430628, 33.52339346, 34.37854249,\n        35.96629343, 36.68588352, 37.76892475, 38.24642354, 39.2295479 ],\n       [40.45849462, 41.73132736, 42.85580262, 43.41956303, 44.29160515,\n        45.54063802, 46.8364506 , 47.12482611, 48.46795912, 49.10686432],\n       [50.01480666, 51.92971404, 52.41605066, 53.32307966, 54.15940011,\n        55.03849413, 56.8144902 , 57.11527343, 58.63726429, 59.37027986],\n       [60.95779155, 61.96306203, 62.66336082, 63.93576065, 64.56186876,\n        65.52144264, 66.32676403, 67.60579006, 68.53855311, 69.99202029],\n       [70.16430679, 71.18375078, 72.57065335, 73.11153951, 74.32797412,\n        75.69362207, 76.6576828 , 77.64371051, 78.01245316, 79.72117456],\n       [80.71191776, 81.94465595, 82.06634719, 83.03964992, 84.48318054,\n        85.94942108, 86.62114017, 87.36012068, 88.54524249, 89.15393907],\n       [90.84164221, 91.21007059, 92.40622622, 93.8254156 , 94.85282375,\n        95.68675866, 96.16609589, 97.99045242, 98.11350597, 99.23521771]])"
     },
     "execution_count": 22,
     "metadata": {},
     "output_type": "execute_result"
    }
   ],
   "source": [
    "A + c"
   ],
   "metadata": {
    "collapsed": false,
    "pycharm": {
     "name": "#%%\n"
    }
   }
  },
  {
   "cell_type": "code",
   "execution_count": 23,
   "outputs": [
    {
     "data": {
      "text/plain": "array([[ 0.        ,  0.28033926,  0.82227293,  0.40700815,  0.23279672,\n         2.97259797,  0.77244156,  5.89267962,  2.09085507,  0.84413556],\n       [ 4.52073674, 10.04264311,  7.19787869,  4.10096642, 11.58052957,\n        12.39942195, 14.4495028 , 11.83528912, 11.46016778,  8.31789885],\n       [13.45918485, 19.65717241, 19.38087615, 16.9601113 ,  7.30782572,\n        11.57648646,  3.15038615, 21.9777724 ,  0.16532715, 15.25274224],\n       [18.00608644, 20.50507725, 23.49780085, 17.27198429, 12.87044452,\n        33.82026999, 24.69180689, 28.45021561,  9.36409457,  8.95236797],\n       [18.33978494, 29.98442172, 35.94370991, 18.04121019, 12.83062657,\n        24.32871085, 38.47672779,  5.86682738, 22.46203778,  5.23635168],\n       [ 0.74033307, 47.41541623, 21.63463441, 17.12322176,  8.60760574,\n         2.11717738, 45.61145141,  6.57058539, 36.96132885, 21.84651164],\n       [57.46749276, 58.74678369, 41.12837098, 58.95292097, 35.95960059,\n        33.89377166, 21.56642615, 40.58793384, 36.62161136, 68.44940018],\n       [11.50147534, 13.04630548, 41.08704144,  8.1423841 , 24.27008467,\n        52.0216552 , 49.9838931 , 49.56570913,  0.97134653, 56.97279049],\n       [56.95342093, 76.51713198,  5.44046977,  3.29094353, 40.58716518,\n        80.70079208, 53.41805424, 31.33049956, 47.98133901, 13.70057685],\n       [75.74779916, 19.11642388, 37.37281196, 76.76365081, 80.16543226,\n        65.24207254, 15.94520523, 96.0738851 , 11.12358554, 23.28655302]])"
     },
     "execution_count": 23,
     "metadata": {},
     "output_type": "execute_result"
    }
   ],
   "source": [
    "A * c"
   ],
   "metadata": {
    "collapsed": false,
    "pycharm": {
     "name": "#%%\n"
    }
   }
  },
  {
   "cell_type": "code",
   "execution_count": 24,
   "outputs": [
    {
     "data": {
      "text/plain": "array([[ 25.67363142,  28.85583175,  22.22965556,  20.79536226,\n         21.74310415,  28.766857  ,  23.64968347,  25.64237365,\n         15.14789809,  18.80601326],\n       [ 82.5785346 ,  96.38980676,  78.27621299,  64.46462536,\n         64.1957792 ,  91.57562916,  76.26478453,  85.2533175 ,\n         49.80128906,  57.47178648],\n       [139.48343778, 163.92378177, 134.32277042, 108.13388846,\n        106.64845424, 154.38440133, 128.87988559, 144.86426135,\n         84.45468003,  96.13755971],\n       [196.38834097, 231.45775678, 190.36932785, 151.80315155,\n        149.10112929, 217.19317349, 181.49498665, 204.4752052 ,\n        119.108071  , 134.80333293],\n       [253.29324415, 298.99173178, 246.41588528, 195.47241465,\n        191.55380434, 280.00194565, 234.11008771, 264.08614905,\n        153.76146198, 173.46910616],\n       [310.19814733, 366.52570679, 302.46244271, 239.14167775,\n        234.00647938, 342.81071782, 286.72518877, 323.6970929 ,\n        188.41485295, 212.13487938],\n       [367.10305051, 434.0596818 , 358.50900014, 282.81094085,\n        276.45915443, 405.61948998, 339.34028982, 383.30803676,\n        223.06824392, 250.80065261],\n       [424.00795369, 501.59365681, 414.55555757, 326.48020395,\n        318.91182947, 468.42826214, 391.95539088, 442.91898061,\n        257.72163489, 289.46642583],\n       [480.91285687, 569.12763182, 470.602115  , 370.14946704,\n        361.36450452, 531.23703431, 444.57049194, 502.52992446,\n        292.37502587, 328.13219906],\n       [537.81776005, 636.66160683, 526.64867243, 413.81873014,\n        403.81717957, 594.04580647, 497.185593  , 562.14086831,\n        327.02841684, 366.79797228]])"
     },
     "execution_count": 24,
     "metadata": {},
     "output_type": "execute_result"
    }
   ],
   "source": [
    "np.dot(A, c)\n"
   ],
   "metadata": {
    "collapsed": false,
    "pycharm": {
     "name": "#%%\n"
    }
   }
  },
  {
   "cell_type": "markdown",
   "source": [
    "## Problem 2: Conceptual Questions\n",
    "### 1.\n",
    "\n",
    "\n",
    "\n",
    "In machine learning we cannot know if our model is overfitting or underfitting until we test our model after training, and this is why we split our initial dataset into training and test subsets. After the training of our model, we can see if our model does better on the training set than on the test set. If our model does alot better in the training set, then our model is probably overfitting.\n",
    "\n",
    "Now that we have diagnosed that our model is probably overfitting, lets try to fix it.\n",
    "\n",
    "There are many different solutions here, we could try training with more data to help our model. Working with more data will help even out curves and highlight abnormalities, but won't always help.\n",
    "\n",
    "Cross-validation is a very popular solution, where we use the same training data to train alot of mini train-test splits. in cross-validation, we use these splits to fix our model.\n",
    "\n",
    "We could also remove some features in our model, if our model is too complex, that might be the reason it's overfitting.\n",
    "\n",
    "The are many different techniques to regularize our model as well. Regularization is a way to tune the function by adding penalties. This reduces wrights and biases, and in turn helps to overcome overfitting. We will be looking more at regression in answer 2.\n",
    "\n",
    "Finally, i want to mention early stopping. The amount of iterations has a big impact on the performance of our model, and there will be a certain iteration where our model takes a turn into overfitting. Up until this point the model as been working to imprve the model, but will now generalize less and start overfitting instead. Stopping the iterations here leads to stopping the models ability to overfit."
   ],
   "metadata": {
    "collapsed": false,
    "pycharm": {
     "name": "#%% md\n"
    }
   }
  },
  {
   "cell_type": "markdown",
   "source": [
    "### 2.\n",
    "\n",
    "Both LASSO and ridge regression are advantageous in avoiding overfitting\n",
    "\n",
    "Ridge regression attemps to increase the bias to improve variance, this model performance is usually a little bad on the training set, but will perform consistently well on training and testing.\n",
    "\n",
    "Ridge regressions penalty term reduces the slope, and therefore the model becomes less sensitive to changes in independent variables. This is what prevents overfitting. We can tune how sensitive the model is to independent variables, which makes it very powerful for a programmer. However, we must also adjust this manually, which means we end up using time testing how sensitive the model is. This can be both advantageous and disadvantegeous.\n",
    "\n",
    "LASSO regression works kind of similar to Ridge, as a regression we still want to add a penalty term. In LASSO, we use the absolute value of the slope and bias and add that as our penalty term. LASSO is particularly useful for feature selection. LASSO is usually good if there are a small number for significant parameters, and the other parameters are close to zero.\n",
    "\n",
    "Lasso regression reaches 0 when looking at the sum of squared residuals, Ridge will never reach zero, but can get close.\n",
    "\n",
    "All in all the only real difference between Ridge and LASSO, is that Ridge adds the absolute values of the weights, while LASSO adds the weights squared."
   ],
   "metadata": {
    "collapsed": false,
    "pycharm": {
     "name": "#%% md\n"
    }
   }
  },
  {
   "cell_type": "code",
   "execution_count": 33,
   "outputs": [
    {
     "name": "stderr",
     "output_type": "stream",
     "text": [
      "<ipython-input-33-7d921ce5dc60>:3: ParserWarning: Falling back to the 'python' engine because the 'c' engine does not support regex separators (separators > 1 char and different from '\\s+' are interpreted as regex); you can avoid this warning by specifying engine='python'.\n",
      "  df = pd.read_csv (r'housedata.csv', sep=\"\\;\")\n"
     ]
    },
    {
     "data": {
      "text/plain": "             id  bedrooms  sqft_living  sqft_lot  floors  sqft_above  \\\n0    7129300520         3         1180      5650       1        1180   \n1    6414100192         3         2570      7242       2        2170   \n2    5631500400         2          770     10000       1         770   \n3    2487200875         4         1960      5000       1        1050   \n4    1954400510         3         1680      8080       1        1680   \n..          ...       ...          ...       ...     ...         ...   \n994  5147600105         2          740      6460       1         740   \n995  7437100570         4         1860      6325       2        1860   \n996  8856004730         2         1590     20917       1        1590   \n997  3856902996         2          850      2340       1         850   \n998  1442800370         2         1030      4188       1        1030   \n\n     sqft_basement     price  \n0                0  221900.0  \n1              400  538000.0  \n2                0  180000.0  \n3              910  604000.0  \n4                0  510000.0  \n..             ...       ...  \n994              0  178500.0  \n995              0  291000.0  \n996              0  199950.0  \n997              0  553500.0  \n998              0  189950.0  \n\n[999 rows x 8 columns]",
      "text/html": "<div>\n<style scoped>\n    .dataframe tbody tr th:only-of-type {\n        vertical-align: middle;\n    }\n\n    .dataframe tbody tr th {\n        vertical-align: top;\n    }\n\n    .dataframe thead th {\n        text-align: right;\n    }\n</style>\n<table border=\"1\" class=\"dataframe\">\n  <thead>\n    <tr style=\"text-align: right;\">\n      <th></th>\n      <th>id</th>\n      <th>bedrooms</th>\n      <th>sqft_living</th>\n      <th>sqft_lot</th>\n      <th>floors</th>\n      <th>sqft_above</th>\n      <th>sqft_basement</th>\n      <th>price</th>\n    </tr>\n  </thead>\n  <tbody>\n    <tr>\n      <th>0</th>\n      <td>7129300520</td>\n      <td>3</td>\n      <td>1180</td>\n      <td>5650</td>\n      <td>1</td>\n      <td>1180</td>\n      <td>0</td>\n      <td>221900.0</td>\n    </tr>\n    <tr>\n      <th>1</th>\n      <td>6414100192</td>\n      <td>3</td>\n      <td>2570</td>\n      <td>7242</td>\n      <td>2</td>\n      <td>2170</td>\n      <td>400</td>\n      <td>538000.0</td>\n    </tr>\n    <tr>\n      <th>2</th>\n      <td>5631500400</td>\n      <td>2</td>\n      <td>770</td>\n      <td>10000</td>\n      <td>1</td>\n      <td>770</td>\n      <td>0</td>\n      <td>180000.0</td>\n    </tr>\n    <tr>\n      <th>3</th>\n      <td>2487200875</td>\n      <td>4</td>\n      <td>1960</td>\n      <td>5000</td>\n      <td>1</td>\n      <td>1050</td>\n      <td>910</td>\n      <td>604000.0</td>\n    </tr>\n    <tr>\n      <th>4</th>\n      <td>1954400510</td>\n      <td>3</td>\n      <td>1680</td>\n      <td>8080</td>\n      <td>1</td>\n      <td>1680</td>\n      <td>0</td>\n      <td>510000.0</td>\n    </tr>\n    <tr>\n      <th>...</th>\n      <td>...</td>\n      <td>...</td>\n      <td>...</td>\n      <td>...</td>\n      <td>...</td>\n      <td>...</td>\n      <td>...</td>\n      <td>...</td>\n    </tr>\n    <tr>\n      <th>994</th>\n      <td>5147600105</td>\n      <td>2</td>\n      <td>740</td>\n      <td>6460</td>\n      <td>1</td>\n      <td>740</td>\n      <td>0</td>\n      <td>178500.0</td>\n    </tr>\n    <tr>\n      <th>995</th>\n      <td>7437100570</td>\n      <td>4</td>\n      <td>1860</td>\n      <td>6325</td>\n      <td>2</td>\n      <td>1860</td>\n      <td>0</td>\n      <td>291000.0</td>\n    </tr>\n    <tr>\n      <th>996</th>\n      <td>8856004730</td>\n      <td>2</td>\n      <td>1590</td>\n      <td>20917</td>\n      <td>1</td>\n      <td>1590</td>\n      <td>0</td>\n      <td>199950.0</td>\n    </tr>\n    <tr>\n      <th>997</th>\n      <td>3856902996</td>\n      <td>2</td>\n      <td>850</td>\n      <td>2340</td>\n      <td>1</td>\n      <td>850</td>\n      <td>0</td>\n      <td>553500.0</td>\n    </tr>\n    <tr>\n      <th>998</th>\n      <td>1442800370</td>\n      <td>2</td>\n      <td>1030</td>\n      <td>4188</td>\n      <td>1</td>\n      <td>1030</td>\n      <td>0</td>\n      <td>189950.0</td>\n    </tr>\n  </tbody>\n</table>\n<p>999 rows × 8 columns</p>\n</div>"
     },
     "execution_count": 33,
     "metadata": {},
     "output_type": "execute_result"
    }
   ],
   "source": [
    "df = pd.read_csv (r'housedata.csv', sep=\"\\;\")\n",
    "df"
   ],
   "metadata": {
    "collapsed": false,
    "pycharm": {
     "name": "#%%\n"
    }
   }
  },
  {
   "cell_type": "code",
   "execution_count": 1,
   "outputs": [],
   "source": [
    "### 3."
   ],
   "metadata": {
    "collapsed": false,
    "pycharm": {
     "name": "#%%\n"
    }
   }
  },
  {
   "cell_type": "code",
   "execution_count": null,
   "outputs": [],
   "source": [],
   "metadata": {
    "collapsed": false,
    "pycharm": {
     "name": "#%%\n"
    }
   }
  }
 ],
 "metadata": {
  "kernelspec": {
   "name": "pycharm-eec3f6af",
   "language": "python",
   "display_name": "PyCharm (MLExam)"
  },
  "language_info": {
   "codemirror_mode": {
    "name": "ipython",
    "version": 2
   },
   "file_extension": ".py",
   "mimetype": "text/x-python",
   "name": "python",
   "nbconvert_exporter": "python",
   "pygments_lexer": "ipython2",
   "version": "2.7.6"
  }
 },
 "nbformat": 4,
 "nbformat_minor": 0
}